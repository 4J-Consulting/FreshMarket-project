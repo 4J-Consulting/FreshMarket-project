{
 "cells": [
  {
   "cell_type": "markdown",
   "source": [
    "## Limpieza datos - Fresh Market"
   ],
   "metadata": {
    "collapsed": false
   },
   "id": "f2d9316b38af6a08"
  },
  {
   "cell_type": "code",
   "execution_count": 195,
   "outputs": [],
   "source": [
    "#Librerias necesarias para nuestro proceso de limpieza.\n",
    "\n",
    "import pandas as pd\n",
    "import seaborn as sns\n",
    "import numpy as np"
   ],
   "metadata": {
    "collapsed": false,
    "ExecuteTime": {
     "end_time": "2023-11-14T02:05:00.401034300Z",
     "start_time": "2023-11-14T02:04:59.889702700Z"
    }
   },
   "id": "bf3dca9e625114cd"
  },
  {
   "cell_type": "code",
   "execution_count": 196,
   "outputs": [],
   "source": [
    "market_data = pd.read_csv(r'C:\\Users\\Jahir\\DataspellProjects\\FreshMarket-project\\datos\\supermarket_sales-co.csv')\n",
    "data= market_data"
   ],
   "metadata": {
    "collapsed": false,
    "ExecuteTime": {
     "end_time": "2023-11-14T02:05:01.095040600Z",
     "start_time": "2023-11-14T02:04:59.898365400Z"
    }
   },
   "id": "187848fa4dd04e67"
  },
  {
   "cell_type": "markdown",
   "source": [
    "### Observacion principal:"
   ],
   "metadata": {
    "collapsed": false
   },
   "id": "57c56a8f392c031c"
  },
  {
   "cell_type": "code",
   "execution_count": 197,
   "outputs": [
    {
     "data": {
      "text/plain": "    Invoice ID Branch       City Customer type  Gender  \\\n0  750-67-8428      A     Yangon        Member  Female   \n1  226-31-3081      C  Naypyitaw        Normal  Female   \n2  631-41-3108      A     Yangon        Normal    Male   \n3  123-19-1176      A     Yangon        Member    Male   \n4  373-73-7910      A     Yangon        Normal    Male   \n5  699-14-3026      C  Naypyitaw        Normal    Male   \n6  355-53-5943      A     Yangon        Member  Female   \n7  315-22-5665      C  Naypyitaw        Normal  Female   \n\n             Product line  Unit price  Quantity   Tax 5%     Total       Date  \\\n0       Health and beauty        75.0         7  26.1415  548.9715   1/5/2019   \n1  Electronic accessories        15.0         5   3.8200   80.2200   3/8/2019   \n2      Home and lifestyle        46.0         7  16.2155  340.5255   3/3/2019   \n3       Health and beauty        58.0         8  23.2880  489.0480  1/27/2019   \n4       Sports and travel        86.0         7  30.2085  634.3785   2/8/2019   \n5  Electronic accessories        85.0         7  29.8865  627.6165  3/25/2019   \n6  Electronic accessories        69.0         6  20.6520  433.6920  2/25/2019   \n7      Home and lifestyle        74.0        10  36.7800  772.3800  2/24/2019   \n\n          Time       Payment    cogs  gross margin percentage  gross income  \\\n0   1:08:00 PM  Ewallet 00.%  522.83                 4.761905       26.1415   \n1  10:29:00 AM      Cash xl3   76.40                 4.761905        3.8200   \n2   1:23:00 PM   Credit card  324.31                 4.761905       16.2155   \n3   8:33:00 PM  Ewallet 00.%  465.76                 4.761905       23.2880   \n4  10:37:00 AM  Ewallet 00.%  604.17                 4.761905       30.2085   \n5   6:30:00 PM       Ewallet  597.73                 4.761905       29.8865   \n6   2:36:00 PM  Ewallet 00.%  413.04                 4.761905       20.6520   \n7  11:38:00 AM  Ewallet 00.%  735.60                 4.761905       36.7800   \n\n   Rating  \n0     9.1  \n1     9.6  \n2     7.4  \n3     8.4  \n4     5.3  \n5     4.1  \n6     5.8  \n7     8.0  ",
      "text/html": "<div>\n<style scoped>\n    .dataframe tbody tr th:only-of-type {\n        vertical-align: middle;\n    }\n\n    .dataframe tbody tr th {\n        vertical-align: top;\n    }\n\n    .dataframe thead th {\n        text-align: right;\n    }\n</style>\n<table border=\"1\" class=\"dataframe\">\n  <thead>\n    <tr style=\"text-align: right;\">\n      <th></th>\n      <th>Invoice ID</th>\n      <th>Branch</th>\n      <th>City</th>\n      <th>Customer type</th>\n      <th>Gender</th>\n      <th>Product line</th>\n      <th>Unit price</th>\n      <th>Quantity</th>\n      <th>Tax 5%</th>\n      <th>Total</th>\n      <th>Date</th>\n      <th>Time</th>\n      <th>Payment</th>\n      <th>cogs</th>\n      <th>gross margin percentage</th>\n      <th>gross income</th>\n      <th>Rating</th>\n    </tr>\n  </thead>\n  <tbody>\n    <tr>\n      <th>0</th>\n      <td>750-67-8428</td>\n      <td>A</td>\n      <td>Yangon</td>\n      <td>Member</td>\n      <td>Female</td>\n      <td>Health and beauty</td>\n      <td>75.0</td>\n      <td>7</td>\n      <td>26.1415</td>\n      <td>548.9715</td>\n      <td>1/5/2019</td>\n      <td>1:08:00 PM</td>\n      <td>Ewallet 00.%</td>\n      <td>522.83</td>\n      <td>4.761905</td>\n      <td>26.1415</td>\n      <td>9.1</td>\n    </tr>\n    <tr>\n      <th>1</th>\n      <td>226-31-3081</td>\n      <td>C</td>\n      <td>Naypyitaw</td>\n      <td>Normal</td>\n      <td>Female</td>\n      <td>Electronic accessories</td>\n      <td>15.0</td>\n      <td>5</td>\n      <td>3.8200</td>\n      <td>80.2200</td>\n      <td>3/8/2019</td>\n      <td>10:29:00 AM</td>\n      <td>Cash xl3</td>\n      <td>76.40</td>\n      <td>4.761905</td>\n      <td>3.8200</td>\n      <td>9.6</td>\n    </tr>\n    <tr>\n      <th>2</th>\n      <td>631-41-3108</td>\n      <td>A</td>\n      <td>Yangon</td>\n      <td>Normal</td>\n      <td>Male</td>\n      <td>Home and lifestyle</td>\n      <td>46.0</td>\n      <td>7</td>\n      <td>16.2155</td>\n      <td>340.5255</td>\n      <td>3/3/2019</td>\n      <td>1:23:00 PM</td>\n      <td>Credit card</td>\n      <td>324.31</td>\n      <td>4.761905</td>\n      <td>16.2155</td>\n      <td>7.4</td>\n    </tr>\n    <tr>\n      <th>3</th>\n      <td>123-19-1176</td>\n      <td>A</td>\n      <td>Yangon</td>\n      <td>Member</td>\n      <td>Male</td>\n      <td>Health and beauty</td>\n      <td>58.0</td>\n      <td>8</td>\n      <td>23.2880</td>\n      <td>489.0480</td>\n      <td>1/27/2019</td>\n      <td>8:33:00 PM</td>\n      <td>Ewallet 00.%</td>\n      <td>465.76</td>\n      <td>4.761905</td>\n      <td>23.2880</td>\n      <td>8.4</td>\n    </tr>\n    <tr>\n      <th>4</th>\n      <td>373-73-7910</td>\n      <td>A</td>\n      <td>Yangon</td>\n      <td>Normal</td>\n      <td>Male</td>\n      <td>Sports and travel</td>\n      <td>86.0</td>\n      <td>7</td>\n      <td>30.2085</td>\n      <td>634.3785</td>\n      <td>2/8/2019</td>\n      <td>10:37:00 AM</td>\n      <td>Ewallet 00.%</td>\n      <td>604.17</td>\n      <td>4.761905</td>\n      <td>30.2085</td>\n      <td>5.3</td>\n    </tr>\n    <tr>\n      <th>5</th>\n      <td>699-14-3026</td>\n      <td>C</td>\n      <td>Naypyitaw</td>\n      <td>Normal</td>\n      <td>Male</td>\n      <td>Electronic accessories</td>\n      <td>85.0</td>\n      <td>7</td>\n      <td>29.8865</td>\n      <td>627.6165</td>\n      <td>3/25/2019</td>\n      <td>6:30:00 PM</td>\n      <td>Ewallet</td>\n      <td>597.73</td>\n      <td>4.761905</td>\n      <td>29.8865</td>\n      <td>4.1</td>\n    </tr>\n    <tr>\n      <th>6</th>\n      <td>355-53-5943</td>\n      <td>A</td>\n      <td>Yangon</td>\n      <td>Member</td>\n      <td>Female</td>\n      <td>Electronic accessories</td>\n      <td>69.0</td>\n      <td>6</td>\n      <td>20.6520</td>\n      <td>433.6920</td>\n      <td>2/25/2019</td>\n      <td>2:36:00 PM</td>\n      <td>Ewallet 00.%</td>\n      <td>413.04</td>\n      <td>4.761905</td>\n      <td>20.6520</td>\n      <td>5.8</td>\n    </tr>\n    <tr>\n      <th>7</th>\n      <td>315-22-5665</td>\n      <td>C</td>\n      <td>Naypyitaw</td>\n      <td>Normal</td>\n      <td>Female</td>\n      <td>Home and lifestyle</td>\n      <td>74.0</td>\n      <td>10</td>\n      <td>36.7800</td>\n      <td>772.3800</td>\n      <td>2/24/2019</td>\n      <td>11:38:00 AM</td>\n      <td>Ewallet 00.%</td>\n      <td>735.60</td>\n      <td>4.761905</td>\n      <td>36.7800</td>\n      <td>8.0</td>\n    </tr>\n  </tbody>\n</table>\n</div>"
     },
     "execution_count": 197,
     "metadata": {},
     "output_type": "execute_result"
    }
   ],
   "source": [
    "data.head(8)"
   ],
   "metadata": {
    "collapsed": false,
    "ExecuteTime": {
     "end_time": "2023-11-14T02:05:01.267157800Z",
     "start_time": "2023-11-14T02:04:59.933704500Z"
    }
   },
   "id": "984a02fa4020dbe8"
  },
  {
   "cell_type": "code",
   "execution_count": 198,
   "outputs": [
    {
     "name": "stdout",
     "output_type": "stream",
     "text": [
      "<class 'pandas.core.frame.DataFrame'>\n",
      "RangeIndex: 1027 entries, 0 to 1026\n",
      "Data columns (total 17 columns):\n",
      " #   Column                   Non-Null Count  Dtype  \n",
      "---  ------                   --------------  -----  \n",
      " 0   Invoice ID               1000 non-null   object \n",
      " 1   Branch                   1027 non-null   object \n",
      " 2   City                     1027 non-null   object \n",
      " 3   Customer type            1027 non-null   object \n",
      " 4   Gender                   1027 non-null   object \n",
      " 5   Product line             1027 non-null   object \n",
      " 6   Unit price               1020 non-null   float64\n",
      " 7   Quantity                 1027 non-null   int64  \n",
      " 8   Tax 5%                   1027 non-null   float64\n",
      " 9   Total                    1027 non-null   float64\n",
      " 10  Date                     1027 non-null   object \n",
      " 11  Time                     1027 non-null   object \n",
      " 12  Payment                  1027 non-null   object \n",
      " 13  cogs                     1027 non-null   float64\n",
      " 14  gross margin percentage  1000 non-null   float64\n",
      " 15  gross income             1000 non-null   float64\n",
      " 16  Rating                   1000 non-null   float64\n",
      "dtypes: float64(7), int64(1), object(9)\n",
      "memory usage: 136.5+ KB\n"
     ]
    }
   ],
   "source": [
    "data.info()"
   ],
   "metadata": {
    "collapsed": false,
    "ExecuteTime": {
     "end_time": "2023-11-14T02:05:01.268689600Z",
     "start_time": "2023-11-14T02:04:59.963195Z"
    }
   },
   "id": "bf1a789079f221aa"
  },
  {
   "cell_type": "markdown",
   "source": [
    "## Comentarios iniciales:\n",
    "\n",
    "El dataset contiene 17 columnas con informacion relacionada a la actividad diaria de fresh market, varios problemas estructuares se evidencia en la primera vista, los formatos deben ser verificads pues existe incosostencia.\n",
    "\n",
    "* Normalizar nombres de columnas\n",
    "* Columna con fechas debe ser tratada.\n",
    "* Datos faltantes en el identificador de productos."
   ],
   "metadata": {
    "collapsed": false
   },
   "id": "37de1e2f4819a1c9"
  },
  {
   "cell_type": "code",
   "execution_count": 199,
   "outputs": [],
   "source": [
    "# Normalizacion de nombres en columna.\n",
    "\n",
    "data.columns = data.columns.str.lower()"
   ],
   "metadata": {
    "collapsed": false,
    "ExecuteTime": {
     "end_time": "2023-11-14T02:05:01.391361900Z",
     "start_time": "2023-11-14T02:04:59.982617600Z"
    }
   },
   "id": "6ba4e50876a6cf2b"
  },
  {
   "cell_type": "code",
   "execution_count": 200,
   "outputs": [
    {
     "data": {
      "text/plain": "Index(['invoice id', 'branch', 'city', 'customer type', 'gender',\n       'product line', 'unit price', 'quantity', 'tax 5%', 'total', 'date',\n       'time', 'payment', 'cogs', 'gross margin percentage', 'gross income',\n       'rating'],\n      dtype='object')"
     },
     "execution_count": 200,
     "metadata": {},
     "output_type": "execute_result"
    }
   ],
   "source": [
    "data.columns"
   ],
   "metadata": {
    "collapsed": false,
    "ExecuteTime": {
     "end_time": "2023-11-14T02:05:01.463280400Z",
     "start_time": "2023-11-14T02:04:59.992026200Z"
    }
   },
   "id": "d08e2319ffa3275d"
  },
  {
   "cell_type": "code",
   "execution_count": 201,
   "outputs": [],
   "source": [
    "data.columns =['invoice_id', 'branch', 'city', 'customer_type', 'gender',\n",
    "       'product_line', 'unit_price', 'quantity', 'tax_5%', 'total', 'date',\n",
    "       'time', 'payment', 'cogs', 'gross_margin_percentage', 'gross_income',\n",
    "       'rating']"
   ],
   "metadata": {
    "collapsed": false,
    "ExecuteTime": {
     "end_time": "2023-11-14T02:05:01.477247100Z",
     "start_time": "2023-11-14T02:05:00.007273Z"
    }
   },
   "id": "f195b6f25734a626"
  },
  {
   "cell_type": "code",
   "execution_count": 202,
   "outputs": [
    {
     "data": {
      "text/plain": "Index(['invoice_id', 'branch', 'city', 'customer_type', 'gender',\n       'product_line', 'unit_price', 'quantity', 'tax_5%', 'total', 'date',\n       'time', 'payment', 'cogs', 'gross_margin_percentage', 'gross_income',\n       'rating'],\n      dtype='object')"
     },
     "execution_count": 202,
     "metadata": {},
     "output_type": "execute_result"
    }
   ],
   "source": [
    "data.columns"
   ],
   "metadata": {
    "collapsed": false,
    "ExecuteTime": {
     "end_time": "2023-11-14T02:05:01.478305800Z",
     "start_time": "2023-11-14T02:05:00.016469300Z"
    }
   },
   "id": "546968507afad97"
  },
  {
   "cell_type": "code",
   "execution_count": 202,
   "outputs": [],
   "source": [],
   "metadata": {
    "collapsed": false,
    "ExecuteTime": {
     "end_time": "2023-11-14T02:05:01.478305800Z",
     "start_time": "2023-11-14T02:05:00.032490300Z"
    }
   },
   "id": "3067c0e620cff1ac"
  },
  {
   "cell_type": "markdown",
   "source": [
    "### Columna #1 Invoice_id "
   ],
   "metadata": {
    "collapsed": false
   },
   "id": "247f59cac661af09"
  },
  {
   "cell_type": "code",
   "execution_count": 203,
   "outputs": [
    {
     "name": "stdout",
     "output_type": "stream",
     "text": [
      "<class 'pandas.core.series.Series'>\n",
      "RangeIndex: 1027 entries, 0 to 1026\n",
      "Series name: invoice_id\n",
      "Non-Null Count  Dtype \n",
      "--------------  ----- \n",
      "1000 non-null   object\n",
      "dtypes: object(1)\n",
      "memory usage: 8.2+ KB\n"
     ]
    }
   ],
   "source": [
    "data[\"invoice_id\"].info()"
   ],
   "metadata": {
    "collapsed": false,
    "ExecuteTime": {
     "end_time": "2023-11-14T02:05:01.489413400Z",
     "start_time": "2023-11-14T02:05:00.037520700Z"
    }
   },
   "id": "9babcf5ee51771d2"
  },
  {
   "cell_type": "code",
   "execution_count": 204,
   "outputs": [],
   "source": [
    "# Eliminacion de cualquier fila en la columna Invoice_id que contengavalor nulo.\n",
    "data.dropna(subset='invoice_id', inplace=True)"
   ],
   "metadata": {
    "collapsed": false,
    "ExecuteTime": {
     "end_time": "2023-11-14T02:05:01.489413400Z",
     "start_time": "2023-11-14T02:05:00.055776400Z"
    }
   },
   "id": "f138e8a968c0dfac"
  },
  {
   "cell_type": "code",
   "execution_count": 205,
   "outputs": [],
   "source": [
    "#Cambio de formatos\n",
    "\n",
    "data[\"invoice_id\"] = data[\"invoice_id\"].astype('string')"
   ],
   "metadata": {
    "collapsed": false,
    "ExecuteTime": {
     "end_time": "2023-11-14T02:05:01.612692500Z",
     "start_time": "2023-11-14T02:05:00.065498Z"
    }
   },
   "id": "dcec2cd0d84923b0"
  },
  {
   "cell_type": "code",
   "execution_count": 206,
   "outputs": [
    {
     "data": {
      "text/plain": "Empty DataFrame\nColumns: [invoice_id, branch, city, customer_type, gender, product_line, unit_price, quantity, tax_5%, total, date, time, payment, cogs, gross_margin_percentage, gross_income, rating]\nIndex: []",
      "text/html": "<div>\n<style scoped>\n    .dataframe tbody tr th:only-of-type {\n        vertical-align: middle;\n    }\n\n    .dataframe tbody tr th {\n        vertical-align: top;\n    }\n\n    .dataframe thead th {\n        text-align: right;\n    }\n</style>\n<table border=\"1\" class=\"dataframe\">\n  <thead>\n    <tr style=\"text-align: right;\">\n      <th></th>\n      <th>invoice_id</th>\n      <th>branch</th>\n      <th>city</th>\n      <th>customer_type</th>\n      <th>gender</th>\n      <th>product_line</th>\n      <th>unit_price</th>\n      <th>quantity</th>\n      <th>tax_5%</th>\n      <th>total</th>\n      <th>date</th>\n      <th>time</th>\n      <th>payment</th>\n      <th>cogs</th>\n      <th>gross_margin_percentage</th>\n      <th>gross_income</th>\n      <th>rating</th>\n    </tr>\n  </thead>\n  <tbody>\n  </tbody>\n</table>\n</div>"
     },
     "execution_count": 206,
     "metadata": {},
     "output_type": "execute_result"
    }
   ],
   "source": [
    "# Verificasion la cantidad de caracteres en cada ID para asegurar integridad del mismo.\n",
    "data[data['invoice_id'].apply(lambda x: len(str(x)) != 11)]\n",
    "\n",
    "# Resultado 0 lo cual significa que todos mantienen la misma cantidad."
   ],
   "metadata": {
    "collapsed": false,
    "ExecuteTime": {
     "end_time": "2023-11-14T02:05:01.759125100Z",
     "start_time": "2023-11-14T02:05:00.075221600Z"
    }
   },
   "id": "8584bd64ea7b9d1"
  },
  {
   "cell_type": "markdown",
   "source": [
    "## Columna #2 branch. "
   ],
   "metadata": {
    "collapsed": false
   },
   "id": "b1e3e66a4b046be3"
  },
  {
   "cell_type": "code",
   "execution_count": 207,
   "outputs": [
    {
     "name": "stdout",
     "output_type": "stream",
     "text": [
      "<class 'pandas.core.series.Series'>\n",
      "Index: 1000 entries, 0 to 999\n",
      "Series name: branch\n",
      "Non-Null Count  Dtype \n",
      "--------------  ----- \n",
      "1000 non-null   object\n",
      "dtypes: object(1)\n",
      "memory usage: 15.6+ KB\n"
     ]
    }
   ],
   "source": [
    "data['branch'].info()"
   ],
   "metadata": {
    "collapsed": false,
    "ExecuteTime": {
     "end_time": "2023-11-14T02:05:01.832129Z",
     "start_time": "2023-11-14T02:05:00.096414800Z"
    }
   },
   "id": "9f5a77de2e34936f"
  },
  {
   "cell_type": "code",
   "execution_count": 208,
   "outputs": [
    {
     "data": {
      "text/plain": "branch\nA    0.340\nB    0.332\nC    0.328\nName: proportion, dtype: float64"
     },
     "execution_count": 208,
     "metadata": {},
     "output_type": "execute_result"
    }
   ],
   "source": [
    "data['branch'].value_counts(normalize=True)\n",
    "\n",
    "# Los datos en la columana son categoricos y mantienen un distribucion adecuada, estan acorde a la ubicasion geografica que representan. Solo es necesario cambiar formato."
   ],
   "metadata": {
    "collapsed": false,
    "ExecuteTime": {
     "end_time": "2023-11-14T02:05:01.849908600Z",
     "start_time": "2023-11-14T02:05:00.109938900Z"
    }
   },
   "id": "d72eabc85423b20e"
  },
  {
   "cell_type": "code",
   "execution_count": 209,
   "outputs": [],
   "source": [
    "data['branch']= data['branch'].astype('category')"
   ],
   "metadata": {
    "collapsed": false,
    "ExecuteTime": {
     "end_time": "2023-11-14T02:05:01.849908600Z",
     "start_time": "2023-11-14T02:05:00.122793400Z"
    }
   },
   "id": "37e645ffdc4eb6e3"
  },
  {
   "cell_type": "markdown",
   "source": [
    "## Columna #3 city"
   ],
   "metadata": {
    "collapsed": false
   },
   "id": "64699f3af9d3b408"
  },
  {
   "cell_type": "code",
   "execution_count": 210,
   "outputs": [
    {
     "name": "stdout",
     "output_type": "stream",
     "text": [
      "<class 'pandas.core.series.Series'>\n",
      "Index: 1000 entries, 0 to 999\n",
      "Series name: city\n",
      "Non-Null Count  Dtype \n",
      "--------------  ----- \n",
      "1000 non-null   object\n",
      "dtypes: object(1)\n",
      "memory usage: 15.6+ KB\n"
     ]
    }
   ],
   "source": [
    "data['city'].info()"
   ],
   "metadata": {
    "collapsed": false,
    "ExecuteTime": {
     "end_time": "2023-11-14T02:05:01.953468200Z",
     "start_time": "2023-11-14T02:05:00.132098300Z"
    }
   },
   "id": "a594d2f5f16e37c9"
  },
  {
   "cell_type": "code",
   "execution_count": 211,
   "outputs": [
    {
     "data": {
      "text/plain": "city\nYangon       340\nMandalay     332\nNaypyitaw    327\nKiamica        1\nName: count, dtype: int64"
     },
     "execution_count": 211,
     "metadata": {},
     "output_type": "execute_result"
    }
   ],
   "source": [
    "data['city'].value_counts()"
   ],
   "metadata": {
    "collapsed": false,
    "ExecuteTime": {
     "end_time": "2023-11-14T02:05:02.018556900Z",
     "start_time": "2023-11-14T02:05:00.144336700Z"
    }
   },
   "id": "bbf595991832040"
  },
  {
   "cell_type": "code",
   "execution_count": 212,
   "outputs": [
    {
     "data": {
      "text/plain": "      invoice_id branch     city customer_type gender        product_line  \\\n446  235-46-8343      C  Kiamica        Member   Male  Food and beverages   \n\n     unit_price  quantity  tax_5%   total       date         time  \\\n446        28.0        10   13.83  290.43  2/14/2019  11:26:00 AM   \n\n         payment   cogs  gross_margin_percentage  gross_income  rating  \n446  Credit card  276.6                 4.761905         13.83     8.9  ",
      "text/html": "<div>\n<style scoped>\n    .dataframe tbody tr th:only-of-type {\n        vertical-align: middle;\n    }\n\n    .dataframe tbody tr th {\n        vertical-align: top;\n    }\n\n    .dataframe thead th {\n        text-align: right;\n    }\n</style>\n<table border=\"1\" class=\"dataframe\">\n  <thead>\n    <tr style=\"text-align: right;\">\n      <th></th>\n      <th>invoice_id</th>\n      <th>branch</th>\n      <th>city</th>\n      <th>customer_type</th>\n      <th>gender</th>\n      <th>product_line</th>\n      <th>unit_price</th>\n      <th>quantity</th>\n      <th>tax_5%</th>\n      <th>total</th>\n      <th>date</th>\n      <th>time</th>\n      <th>payment</th>\n      <th>cogs</th>\n      <th>gross_margin_percentage</th>\n      <th>gross_income</th>\n      <th>rating</th>\n    </tr>\n  </thead>\n  <tbody>\n    <tr>\n      <th>446</th>\n      <td>235-46-8343</td>\n      <td>C</td>\n      <td>Kiamica</td>\n      <td>Member</td>\n      <td>Male</td>\n      <td>Food and beverages</td>\n      <td>28.0</td>\n      <td>10</td>\n      <td>13.83</td>\n      <td>290.43</td>\n      <td>2/14/2019</td>\n      <td>11:26:00 AM</td>\n      <td>Credit card</td>\n      <td>276.6</td>\n      <td>4.761905</td>\n      <td>13.83</td>\n      <td>8.9</td>\n    </tr>\n  </tbody>\n</table>\n</div>"
     },
     "execution_count": 212,
     "metadata": {},
     "output_type": "execute_result"
    }
   ],
   "source": [
    "# Fueron encontrado solo un valor atipico en las categorias, ya que deberian ser solo tres ciudades y tenemos cuatro.\n",
    "\n",
    "data.loc[data['city'] == 'Kiamica']"
   ],
   "metadata": {
    "collapsed": false,
    "ExecuteTime": {
     "end_time": "2023-11-14T02:05:02.068992200Z",
     "start_time": "2023-11-14T02:05:00.157228400Z"
    }
   },
   "id": "9eb64d8f291b4f65"
  },
  {
   "cell_type": "code",
   "execution_count": 213,
   "outputs": [],
   "source": [
    "# Como solo es un valor afectado procederomos a borrarlo.\n",
    "\n",
    "data.drop(axis=\"rows\", index=446, inplace=True)"
   ],
   "metadata": {
    "collapsed": false,
    "ExecuteTime": {
     "end_time": "2023-11-14T02:05:02.128277900Z",
     "start_time": "2023-11-14T02:05:00.186462800Z"
    }
   },
   "id": "a4033537df9bb88"
  },
  {
   "cell_type": "code",
   "execution_count": 214,
   "outputs": [],
   "source": [
    "# Cambiamos formato a str\n",
    "\n",
    "data['city'] = data['city'].astype('string')"
   ],
   "metadata": {
    "collapsed": false,
    "ExecuteTime": {
     "end_time": "2023-11-14T02:05:02.174555200Z",
     "start_time": "2023-11-14T02:05:00.194823200Z"
    }
   },
   "id": "b5b830f07789d68b"
  },
  {
   "cell_type": "code",
   "execution_count": 215,
   "outputs": [
    {
     "name": "stdout",
     "output_type": "stream",
     "text": [
      "<class 'pandas.core.series.Series'>\n",
      "Index: 999 entries, 0 to 999\n",
      "Series name: city\n",
      "Non-Null Count  Dtype \n",
      "--------------  ----- \n",
      "999 non-null    string\n",
      "dtypes: string(1)\n",
      "memory usage: 15.6 KB\n"
     ]
    }
   ],
   "source": [
    "data['city'].info()"
   ],
   "metadata": {
    "collapsed": false,
    "ExecuteTime": {
     "end_time": "2023-11-14T02:05:02.222799300Z",
     "start_time": "2023-11-14T02:05:00.204242Z"
    }
   },
   "id": "8b979c11e7049f05"
  },
  {
   "cell_type": "markdown",
   "source": [
    "## Columna #4 customer_type"
   ],
   "metadata": {
    "collapsed": false
   },
   "id": "ebb05f5e9f65c7ea"
  },
  {
   "cell_type": "code",
   "execution_count": 216,
   "outputs": [
    {
     "name": "stdout",
     "output_type": "stream",
     "text": [
      "<class 'pandas.core.series.Series'>\n",
      "Index: 999 entries, 0 to 999\n",
      "Series name: customer_type\n",
      "Non-Null Count  Dtype \n",
      "--------------  ----- \n",
      "999 non-null    object\n",
      "dtypes: object(1)\n",
      "memory usage: 15.6+ KB\n"
     ]
    }
   ],
   "source": [
    "data['customer_type'].info()"
   ],
   "metadata": {
    "collapsed": false,
    "ExecuteTime": {
     "end_time": "2023-11-14T02:05:02.222799300Z",
     "start_time": "2023-11-14T02:05:00.218190600Z"
    }
   },
   "id": "f2a9c842db1096ec"
  },
  {
   "cell_type": "code",
   "execution_count": 217,
   "outputs": [
    {
     "data": {
      "text/plain": "customer_type\nMember    500\nNormal    499\nName: count, dtype: int64"
     },
     "execution_count": 217,
     "metadata": {},
     "output_type": "execute_result"
    }
   ],
   "source": [
    "data['customer_type'].value_counts()"
   ],
   "metadata": {
    "collapsed": false,
    "ExecuteTime": {
     "end_time": "2023-11-14T02:05:02.369038Z",
     "start_time": "2023-11-14T02:05:00.235624900Z"
    }
   },
   "id": "fc7d2c51c6bbf897"
  },
  {
   "cell_type": "code",
   "execution_count": 218,
   "outputs": [],
   "source": [
    "data['customer_type'] = data['customer_type'].astype(\"string\")"
   ],
   "metadata": {
    "collapsed": false,
    "ExecuteTime": {
     "end_time": "2023-11-14T02:05:02.372614300Z",
     "start_time": "2023-11-14T02:05:00.250240Z"
    }
   },
   "id": "3e34ecf86db3b508"
  },
  {
   "cell_type": "markdown",
   "source": [
    "No fueron encontrados valores atipicos en la evaluacion, solo fue necesario cambiar el formato para mejorar la integridad de los datos adquiridos."
   ],
   "metadata": {
    "collapsed": false
   },
   "id": "a068f837ed509170"
  },
  {
   "cell_type": "markdown",
   "source": [
    "## Columna #5 gender"
   ],
   "metadata": {
    "collapsed": false
   },
   "id": "a0089c751d789852"
  },
  {
   "cell_type": "code",
   "execution_count": 219,
   "outputs": [
    {
     "data": {
      "text/plain": "gender\nFemale    500\nMale      497\nM           1\nFema        1\nName: count, dtype: int64"
     },
     "execution_count": 219,
     "metadata": {},
     "output_type": "execute_result"
    }
   ],
   "source": [
    "data['gender'].value_counts()"
   ],
   "metadata": {
    "collapsed": false,
    "ExecuteTime": {
     "end_time": "2023-11-14T02:05:02.395864100Z",
     "start_time": "2023-11-14T02:05:00.268430800Z"
    }
   },
   "id": "908848082aabccc"
  },
  {
   "cell_type": "markdown",
   "source": [
    "La columna genero contiene errores estructurales simples(Recomendar al equipo desarrollador de fresh market evaluar los formularios de registro y agregar restricciones para asegurar la integridad en el futuro)"
   ],
   "metadata": {
    "collapsed": false
   },
   "id": "684308abdb29a45c"
  },
  {
   "cell_type": "code",
   "execution_count": 220,
   "outputs": [
    {
     "data": {
      "text/plain": "     invoice_id branch      city customer_type gender            product_line  \\\n11  529-56-3974      B  Mandalay        Member      M  Electronic accessories   \n52  616-24-2851      B  Mandalay        Member   Fema     Fashion accessories   \n\n    unit_price  quantity  tax_5%    total       date        time   payment  \\\n11        26.0         4   5.102  107.142   3/9/2019  5:03:00 PM  Cash xl3   \n52        18.0         4   3.574   75.054  3/22/2019  2:42:00 PM   Ewallet   \n\n      cogs  gross_margin_percentage  gross_income  rating  \n11  102.04                 4.761905         5.102     6.8  \n52   71.48                 4.761905         3.574     6.5  ",
      "text/html": "<div>\n<style scoped>\n    .dataframe tbody tr th:only-of-type {\n        vertical-align: middle;\n    }\n\n    .dataframe tbody tr th {\n        vertical-align: top;\n    }\n\n    .dataframe thead th {\n        text-align: right;\n    }\n</style>\n<table border=\"1\" class=\"dataframe\">\n  <thead>\n    <tr style=\"text-align: right;\">\n      <th></th>\n      <th>invoice_id</th>\n      <th>branch</th>\n      <th>city</th>\n      <th>customer_type</th>\n      <th>gender</th>\n      <th>product_line</th>\n      <th>unit_price</th>\n      <th>quantity</th>\n      <th>tax_5%</th>\n      <th>total</th>\n      <th>date</th>\n      <th>time</th>\n      <th>payment</th>\n      <th>cogs</th>\n      <th>gross_margin_percentage</th>\n      <th>gross_income</th>\n      <th>rating</th>\n    </tr>\n  </thead>\n  <tbody>\n    <tr>\n      <th>11</th>\n      <td>529-56-3974</td>\n      <td>B</td>\n      <td>Mandalay</td>\n      <td>Member</td>\n      <td>M</td>\n      <td>Electronic accessories</td>\n      <td>26.0</td>\n      <td>4</td>\n      <td>5.102</td>\n      <td>107.142</td>\n      <td>3/9/2019</td>\n      <td>5:03:00 PM</td>\n      <td>Cash xl3</td>\n      <td>102.04</td>\n      <td>4.761905</td>\n      <td>5.102</td>\n      <td>6.8</td>\n    </tr>\n    <tr>\n      <th>52</th>\n      <td>616-24-2851</td>\n      <td>B</td>\n      <td>Mandalay</td>\n      <td>Member</td>\n      <td>Fema</td>\n      <td>Fashion accessories</td>\n      <td>18.0</td>\n      <td>4</td>\n      <td>3.574</td>\n      <td>75.054</td>\n      <td>3/22/2019</td>\n      <td>2:42:00 PM</td>\n      <td>Ewallet</td>\n      <td>71.48</td>\n      <td>4.761905</td>\n      <td>3.574</td>\n      <td>6.5</td>\n    </tr>\n  </tbody>\n</table>\n</div>"
     },
     "execution_count": 220,
     "metadata": {},
     "output_type": "execute_result"
    }
   ],
   "source": [
    "data.loc[(data['gender'] == \"M\") | (data['gender'] == \"Fema\")]"
   ],
   "metadata": {
    "collapsed": false,
    "ExecuteTime": {
     "end_time": "2023-11-14T02:05:02.396373900Z",
     "start_time": "2023-11-14T02:05:00.282351900Z"
    }
   },
   "id": "3b6aae4cd9e1d9b"
  },
  {
   "cell_type": "code",
   "execution_count": 221,
   "outputs": [],
   "source": [
    "# Reemplazamos los valores por los adecuados y cambiamos formato de coulmanas a categoricos\n",
    "\n",
    "data.replace({\"M\": \"Male\", \"Fema\":\"Female\"}, inplace=True)"
   ],
   "metadata": {
    "collapsed": false,
    "ExecuteTime": {
     "end_time": "2023-11-14T02:05:02.396373900Z",
     "start_time": "2023-11-14T02:05:00.317207300Z"
    }
   },
   "id": "dc761e203a514f8f"
  },
  {
   "cell_type": "code",
   "execution_count": 222,
   "outputs": [
    {
     "data": {
      "text/plain": "Empty DataFrame\nColumns: [invoice_id, branch, city, customer_type, gender, product_line, unit_price, quantity, tax_5%, total, date, time, payment, cogs, gross_margin_percentage, gross_income, rating]\nIndex: []",
      "text/html": "<div>\n<style scoped>\n    .dataframe tbody tr th:only-of-type {\n        vertical-align: middle;\n    }\n\n    .dataframe tbody tr th {\n        vertical-align: top;\n    }\n\n    .dataframe thead th {\n        text-align: right;\n    }\n</style>\n<table border=\"1\" class=\"dataframe\">\n  <thead>\n    <tr style=\"text-align: right;\">\n      <th></th>\n      <th>invoice_id</th>\n      <th>branch</th>\n      <th>city</th>\n      <th>customer_type</th>\n      <th>gender</th>\n      <th>product_line</th>\n      <th>unit_price</th>\n      <th>quantity</th>\n      <th>tax_5%</th>\n      <th>total</th>\n      <th>date</th>\n      <th>time</th>\n      <th>payment</th>\n      <th>cogs</th>\n      <th>gross_margin_percentage</th>\n      <th>gross_income</th>\n      <th>rating</th>\n    </tr>\n  </thead>\n  <tbody>\n  </tbody>\n</table>\n</div>"
     },
     "execution_count": 222,
     "metadata": {},
     "output_type": "execute_result"
    }
   ],
   "source": [
    "# Confirmamos que se realizaron los cambios, llamando los datos atipicos.\n",
    "\n",
    "data.loc[(data['gender'] == \"M\") | (data['gender'] == \"Fema\")]"
   ],
   "metadata": {
    "collapsed": false,
    "ExecuteTime": {
     "end_time": "2023-11-14T02:05:02.397900900Z",
     "start_time": "2023-11-14T02:05:00.333159500Z"
    }
   },
   "id": "7c3786a46e40a684"
  },
  {
   "cell_type": "code",
   "execution_count": 223,
   "outputs": [],
   "source": [
    "data['gender'] = data['gender'].astype(\"category\")"
   ],
   "metadata": {
    "collapsed": false,
    "ExecuteTime": {
     "end_time": "2023-11-14T02:05:02.397900900Z",
     "start_time": "2023-11-14T02:05:00.353170400Z"
    }
   },
   "id": "d1c9e1bcaf53be79"
  },
  {
   "cell_type": "code",
   "execution_count": 224,
   "outputs": [
    {
     "data": {
      "text/plain": "invoice_id                 string[python]\nbranch                           category\ncity                       string[python]\ncustomer_type              string[python]\ngender                           category\nproduct_line                       object\nunit_price                        float64\nquantity                            int64\ntax_5%                            float64\ntotal                             float64\ndate                               object\ntime                               object\npayment                            object\ncogs                              float64\ngross_margin_percentage           float64\ngross_income                      float64\nrating                            float64\ndtype: object"
     },
     "execution_count": 224,
     "metadata": {},
     "output_type": "execute_result"
    }
   ],
   "source": [
    "data.dtypes"
   ],
   "metadata": {
    "collapsed": false,
    "ExecuteTime": {
     "end_time": "2023-11-14T02:05:02.397900900Z",
     "start_time": "2023-11-14T02:05:00.364689900Z"
    }
   },
   "id": "109edcc45fcb521a"
  },
  {
   "cell_type": "markdown",
   "source": [
    "## Columna #6 product_line, unit_price, quantity"
   ],
   "metadata": {
    "collapsed": false
   },
   "id": "701cb6c951b29413"
  },
  {
   "cell_type": "code",
   "execution_count": 225,
   "outputs": [
    {
     "name": "stdout",
     "output_type": "stream",
     "text": [
      "<class 'pandas.core.frame.DataFrame'>\n",
      "Index: 999 entries, 0 to 999\n",
      "Data columns (total 3 columns):\n",
      " #   Column        Non-Null Count  Dtype  \n",
      "---  ------        --------------  -----  \n",
      " 0   product_line  999 non-null    object \n",
      " 1   unit_price    992 non-null    float64\n",
      " 2   quantity      999 non-null    int64  \n",
      "dtypes: float64(1), int64(1), object(1)\n",
      "memory usage: 31.2+ KB\n"
     ]
    }
   ],
   "source": [
    "data[['product_line', 'unit_price','quantity']].info()"
   ],
   "metadata": {
    "collapsed": false,
    "ExecuteTime": {
     "end_time": "2023-11-14T02:05:02.398917500Z",
     "start_time": "2023-11-14T02:05:00.379574500Z"
    }
   },
   "id": "433876c22a9e9a97"
  },
  {
   "cell_type": "code",
   "execution_count": 226,
   "outputs": [
    {
     "data": {
      "text/plain": "           product_line  unit_price  quantity\n679  Food and beverages         NaN         6\n689  Food and beverages         NaN         3\n691  Food and beverages         NaN         7\n694  Food and beverages         NaN         9\n701  Food and beverages         NaN         3\n707  Food and beverages         NaN         1\n710  Food and beverages         NaN         6",
      "text/html": "<div>\n<style scoped>\n    .dataframe tbody tr th:only-of-type {\n        vertical-align: middle;\n    }\n\n    .dataframe tbody tr th {\n        vertical-align: top;\n    }\n\n    .dataframe thead th {\n        text-align: right;\n    }\n</style>\n<table border=\"1\" class=\"dataframe\">\n  <thead>\n    <tr style=\"text-align: right;\">\n      <th></th>\n      <th>product_line</th>\n      <th>unit_price</th>\n      <th>quantity</th>\n    </tr>\n  </thead>\n  <tbody>\n    <tr>\n      <th>679</th>\n      <td>Food and beverages</td>\n      <td>NaN</td>\n      <td>6</td>\n    </tr>\n    <tr>\n      <th>689</th>\n      <td>Food and beverages</td>\n      <td>NaN</td>\n      <td>3</td>\n    </tr>\n    <tr>\n      <th>691</th>\n      <td>Food and beverages</td>\n      <td>NaN</td>\n      <td>7</td>\n    </tr>\n    <tr>\n      <th>694</th>\n      <td>Food and beverages</td>\n      <td>NaN</td>\n      <td>9</td>\n    </tr>\n    <tr>\n      <th>701</th>\n      <td>Food and beverages</td>\n      <td>NaN</td>\n      <td>3</td>\n    </tr>\n    <tr>\n      <th>707</th>\n      <td>Food and beverages</td>\n      <td>NaN</td>\n      <td>1</td>\n    </tr>\n    <tr>\n      <th>710</th>\n      <td>Food and beverages</td>\n      <td>NaN</td>\n      <td>6</td>\n    </tr>\n  </tbody>\n</table>\n</div>"
     },
     "execution_count": 226,
     "metadata": {},
     "output_type": "execute_result"
    }
   ],
   "source": [
    "# Identificamos que algunos productos no tienen precio\n",
    "data[['product_line', 'unit_price','quantity']].loc[data['unit_price'].isnull()]"
   ],
   "metadata": {
    "collapsed": false,
    "ExecuteTime": {
     "end_time": "2023-11-14T02:05:02.485821700Z",
     "start_time": "2023-11-14T02:05:00.400036100Z"
    }
   },
   "id": "c688b6e03315108f"
  },
  {
   "cell_type": "code",
   "execution_count": 227,
   "outputs": [],
   "source": [
    "# Imputaremos la media de precios en la categoria Food and beverages para los 7 productos que no lo tienen\n",
    "\n",
    "data['unit_price'].fillna(round(np.mean(data['product_line'] ==\"Food and beverages\"), 2), inplace=True)"
   ],
   "metadata": {
    "collapsed": false,
    "ExecuteTime": {
     "end_time": "2023-11-14T02:05:02.485821700Z",
     "start_time": "2023-11-14T02:05:00.421284100Z"
    }
   },
   "id": "fb29237db453c68c"
  },
  {
   "cell_type": "code",
   "execution_count": 228,
   "outputs": [
    {
     "data": {
      "text/plain": "Empty DataFrame\nColumns: [product_line, unit_price, quantity]\nIndex: []",
      "text/html": "<div>\n<style scoped>\n    .dataframe tbody tr th:only-of-type {\n        vertical-align: middle;\n    }\n\n    .dataframe tbody tr th {\n        vertical-align: top;\n    }\n\n    .dataframe thead th {\n        text-align: right;\n    }\n</style>\n<table border=\"1\" class=\"dataframe\">\n  <thead>\n    <tr style=\"text-align: right;\">\n      <th></th>\n      <th>product_line</th>\n      <th>unit_price</th>\n      <th>quantity</th>\n    </tr>\n  </thead>\n  <tbody>\n  </tbody>\n</table>\n</div>"
     },
     "execution_count": 228,
     "metadata": {},
     "output_type": "execute_result"
    }
   ],
   "source": [
    "#Confirmamos que no tenemos valores vacios en la columna unit_price\n",
    "data[['product_line', 'unit_price','quantity']].loc[data['unit_price'].isnull()]"
   ],
   "metadata": {
    "collapsed": false,
    "ExecuteTime": {
     "end_time": "2023-11-14T02:05:02.485821700Z",
     "start_time": "2023-11-14T02:05:00.433884200Z"
    }
   },
   "id": "8b88dbea739f70b5"
  },
  {
   "cell_type": "code",
   "execution_count": 229,
   "outputs": [],
   "source": [
    "# Agregamos formato de string a la columna product line.\n",
    "\n",
    "data['product_line']= data['product_line'].astype(\"string\")"
   ],
   "metadata": {
    "collapsed": false,
    "ExecuteTime": {
     "end_time": "2023-11-14T02:05:02.486821300Z",
     "start_time": "2023-11-14T02:05:00.448299600Z"
    }
   },
   "id": "bcec10d91d403c17"
  },
  {
   "cell_type": "code",
   "execution_count": 230,
   "outputs": [
    {
     "data": {
      "text/plain": "product_line    string[python]\nunit_price             float64\nquantity                 int64\ndtype: object"
     },
     "execution_count": 230,
     "metadata": {},
     "output_type": "execute_result"
    }
   ],
   "source": [
    "data[['product_line', 'unit_price','quantity']].dtypes"
   ],
   "metadata": {
    "collapsed": false,
    "ExecuteTime": {
     "end_time": "2023-11-14T02:05:02.486821300Z",
     "start_time": "2023-11-14T02:05:00.459475Z"
    }
   },
   "id": "6ed2a8d412bccab4"
  },
  {
   "cell_type": "code",
   "execution_count": 231,
   "outputs": [
    {
     "data": {
      "text/plain": "Index(['invoice_id', 'branch', 'city', 'customer_type', 'gender',\n       'product_line', 'unit_price', 'quantity', 'tax_5%', 'total', 'date',\n       'time', 'payment', 'cogs', 'gross_margin_percentage', 'gross_income',\n       'rating'],\n      dtype='object')"
     },
     "execution_count": 231,
     "metadata": {},
     "output_type": "execute_result"
    }
   ],
   "source": [
    "data.columns"
   ],
   "metadata": {
    "collapsed": false,
    "ExecuteTime": {
     "end_time": "2023-11-14T02:05:02.489365600Z",
     "start_time": "2023-11-14T02:05:00.477304700Z"
    }
   },
   "id": "17acc01e289f6e3f"
  },
  {
   "cell_type": "markdown",
   "source": [
    "## Columns #7 tax_5%"
   ],
   "metadata": {
    "collapsed": false
   },
   "id": "7040989903a08a5d"
  },
  {
   "cell_type": "code",
   "execution_count": 232,
   "outputs": [
    {
     "name": "stdout",
     "output_type": "stream",
     "text": [
      "<class 'pandas.core.series.Series'>\n",
      "Index: 999 entries, 0 to 999\n",
      "Series name: tax_5%\n",
      "Non-Null Count  Dtype  \n",
      "--------------  -----  \n",
      "999 non-null    float64\n",
      "dtypes: float64(1)\n",
      "memory usage: 15.6 KB\n"
     ]
    }
   ],
   "source": [
    "data['tax_5%'].info()"
   ],
   "metadata": {
    "collapsed": false,
    "ExecuteTime": {
     "end_time": "2023-11-14T02:05:02.490369700Z",
     "start_time": "2023-11-14T02:05:00.487814300Z"
    }
   },
   "id": "f9015f0b26e0bc3a"
  },
  {
   "cell_type": "code",
   "execution_count": 233,
   "outputs": [],
   "source": [
    "#Cambiamos el numero de decimales limitados a dos\n",
    "data['tax_5%']  =data['tax_5%'].round(2)"
   ],
   "metadata": {
    "collapsed": false,
    "ExecuteTime": {
     "end_time": "2023-11-14T02:05:02.490369700Z",
     "start_time": "2023-11-14T02:05:00.513269200Z"
    }
   },
   "id": "5545929e7378d5f1"
  },
  {
   "cell_type": "code",
   "execution_count": 234,
   "outputs": [
    {
     "data": {
      "text/plain": "0      26.14\n1       3.82\n2      16.22\n3      23.29\n4      30.21\n       ...  \n995     2.02\n996    48.69\n997     1.59\n998     3.29\n999    30.92\nName: tax_5%, Length: 999, dtype: float64"
     },
     "execution_count": 234,
     "metadata": {},
     "output_type": "execute_result"
    }
   ],
   "source": [
    "data['tax_5%']"
   ],
   "metadata": {
    "collapsed": false,
    "ExecuteTime": {
     "end_time": "2023-11-14T02:05:02.490369700Z",
     "start_time": "2023-11-14T02:05:00.524826600Z"
    }
   },
   "id": "c2c0ba29be15aa9"
  },
  {
   "cell_type": "markdown",
   "source": [
    "La columna tax income posee valores dentro de rangos normales y formato correcto, no se encontraron erroes estructurales o de logica."
   ],
   "metadata": {
    "collapsed": false
   },
   "id": "9866a8f2672b116e"
  },
  {
   "cell_type": "markdown",
   "source": [
    "## Column #8 total"
   ],
   "metadata": {
    "collapsed": false
   },
   "id": "127049424fde064a"
  },
  {
   "cell_type": "code",
   "execution_count": 235,
   "outputs": [
    {
     "name": "stdout",
     "output_type": "stream",
     "text": [
      "<class 'pandas.core.series.Series'>\n",
      "Index: 999 entries, 0 to 999\n",
      "Series name: total\n",
      "Non-Null Count  Dtype  \n",
      "--------------  -----  \n",
      "999 non-null    float64\n",
      "dtypes: float64(1)\n",
      "memory usage: 15.6 KB\n"
     ]
    }
   ],
   "source": [
    "data['total'].info()"
   ],
   "metadata": {
    "collapsed": false,
    "ExecuteTime": {
     "end_time": "2023-11-14T02:05:02.490369700Z",
     "start_time": "2023-11-14T02:05:00.539000500Z"
    }
   },
   "id": "4892e1560f134e0"
  },
  {
   "cell_type": "code",
   "execution_count": 236,
   "outputs": [
    {
     "data": {
      "text/plain": "count     999.000000\nmean      322.999318\nstd       246.006335\nmin        10.678500\n25%       123.789750\n50%       253.680000\n75%       471.670500\nmax      1042.650000\nName: total, dtype: float64"
     },
     "execution_count": 236,
     "metadata": {},
     "output_type": "execute_result"
    }
   ],
   "source": [
    "#Valores de esta columna en condiciones optimas y sin errores.\n",
    "\n",
    "data['total'].describe()"
   ],
   "metadata": {
    "collapsed": false,
    "ExecuteTime": {
     "end_time": "2023-11-14T02:05:02.491369800Z",
     "start_time": "2023-11-14T02:05:00.555745300Z"
    }
   },
   "id": "e615f98f3fec6bb"
  },
  {
   "cell_type": "code",
   "execution_count": 237,
   "outputs": [],
   "source": [
    "# Normalizamos la cantidad de decimales a dos espacios.\n",
    "\n",
    "data['total'] = data['total'].round(2)"
   ],
   "metadata": {
    "collapsed": false,
    "ExecuteTime": {
     "end_time": "2023-11-14T02:05:02.491369800Z",
     "start_time": "2023-11-14T02:05:00.571944200Z"
    }
   },
   "id": "b79568d9fdf943e5"
  },
  {
   "cell_type": "code",
   "execution_count": 238,
   "outputs": [
    {
     "data": {
      "text/plain": "0    548.97\n1     80.22\n2    340.53\n3    489.05\nName: total, dtype: float64"
     },
     "execution_count": 238,
     "metadata": {},
     "output_type": "execute_result"
    }
   ],
   "source": [
    "data['total'].head(4)"
   ],
   "metadata": {
    "collapsed": false,
    "ExecuteTime": {
     "end_time": "2023-11-14T02:05:02.491369800Z",
     "start_time": "2023-11-14T02:05:00.580923100Z"
    }
   },
   "id": "a22c5bccf53cc9c1"
  },
  {
   "cell_type": "markdown",
   "source": [
    "## Columns #9 date y time"
   ],
   "metadata": {
    "collapsed": false
   },
   "id": "c78d497cf876e181"
  },
  {
   "cell_type": "code",
   "execution_count": 239,
   "outputs": [
    {
     "name": "stdout",
     "output_type": "stream",
     "text": [
      "<class 'pandas.core.frame.DataFrame'>\n",
      "Index: 999 entries, 0 to 999\n",
      "Data columns (total 2 columns):\n",
      " #   Column  Non-Null Count  Dtype \n",
      "---  ------  --------------  ----- \n",
      " 0   date    999 non-null    object\n",
      " 1   time    999 non-null    object\n",
      "dtypes: object(2)\n",
      "memory usage: 23.4+ KB\n"
     ]
    }
   ],
   "source": [
    "data[['date','time']].info()"
   ],
   "metadata": {
    "collapsed": false,
    "ExecuteTime": {
     "end_time": "2023-11-14T02:05:02.492367800Z",
     "start_time": "2023-11-14T02:05:00.596706500Z"
    }
   },
   "id": "37c39f177856d1d5"
  },
  {
   "cell_type": "code",
   "execution_count": 240,
   "outputs": [],
   "source": [
    "# Cambiamos al formato fecha la columna date:\n",
    "\n",
    "data['date'] = pd.to_datetime(data['date'])\n"
   ],
   "metadata": {
    "collapsed": false,
    "ExecuteTime": {
     "end_time": "2023-11-14T02:05:02.492367800Z",
     "start_time": "2023-11-14T02:05:00.610535200Z"
    }
   },
   "id": "24eb036370a7ac07"
  },
  {
   "cell_type": "code",
   "execution_count": 241,
   "outputs": [
    {
     "data": {
      "text/plain": "invoice_id                 string[python]\nbranch                           category\ncity                       string[python]\ncustomer_type              string[python]\ngender                           category\nproduct_line               string[python]\nunit_price                        float64\nquantity                            int64\ntax_5%                            float64\ntotal                             float64\ndate                       datetime64[ns]\ntime                               object\npayment                            object\ncogs                              float64\ngross_margin_percentage           float64\ngross_income                      float64\nrating                            float64\ndtype: object"
     },
     "execution_count": 241,
     "metadata": {},
     "output_type": "execute_result"
    }
   ],
   "source": [
    "data.dtypes"
   ],
   "metadata": {
    "collapsed": false,
    "ExecuteTime": {
     "end_time": "2023-11-14T02:05:02.492367800Z",
     "start_time": "2023-11-14T02:05:00.624623700Z"
    }
   },
   "id": "844c9a69a8caa55c"
  },
  {
   "cell_type": "markdown",
   "source": [
    "## Column #10 Payment"
   ],
   "metadata": {
    "collapsed": false
   },
   "id": "30ef0f7f60bcf65b"
  },
  {
   "cell_type": "code",
   "execution_count": 242,
   "outputs": [
    {
     "name": "stdout",
     "output_type": "stream",
     "text": [
      "<class 'pandas.core.series.Series'>\n",
      "Index: 999 entries, 0 to 999\n",
      "Series name: payment\n",
      "Non-Null Count  Dtype \n",
      "--------------  ----- \n",
      "999 non-null    object\n",
      "dtypes: object(1)\n",
      "memory usage: 15.6+ KB\n"
     ]
    }
   ],
   "source": [
    "data['payment'].info()"
   ],
   "metadata": {
    "collapsed": false,
    "ExecuteTime": {
     "end_time": "2023-11-14T02:05:02.493369400Z",
     "start_time": "2023-11-14T02:05:00.633953300Z"
    }
   },
   "id": "31089bbad748590"
  },
  {
   "cell_type": "code",
   "execution_count": 243,
   "outputs": [
    {
     "data": {
      "text/plain": "payment\nCash            328\nCredit card     310\nEwallet 00.%    218\nEwallet         127\nCash xl3         16\nName: count, dtype: int64"
     },
     "execution_count": 243,
     "metadata": {},
     "output_type": "execute_result"
    }
   ],
   "source": [
    "data['payment'].value_counts()"
   ],
   "metadata": {
    "collapsed": false,
    "ExecuteTime": {
     "end_time": "2023-11-14T02:05:02.493369400Z",
     "start_time": "2023-11-14T02:05:00.647524Z"
    }
   },
   "id": "b0a5ea371238cd7c"
  },
  {
   "cell_type": "markdown",
   "source": [
    "Existen varios problemas estructurales en las categorias de la columna payment, los eliminamos."
   ],
   "metadata": {
    "collapsed": false
   },
   "id": "e9ca260e51600494"
  },
  {
   "cell_type": "code",
   "execution_count": 244,
   "outputs": [],
   "source": [
    "data['payment'] = data['payment'].replace(\"Ewallet 00.%\",\"Ewallet\")"
   ],
   "metadata": {
    "collapsed": false,
    "ExecuteTime": {
     "end_time": "2023-11-14T02:05:02.493369400Z",
     "start_time": "2023-11-14T02:05:00.660287500Z"
    }
   },
   "id": "78928f76c97c0b20"
  },
  {
   "cell_type": "code",
   "execution_count": 245,
   "outputs": [],
   "source": [
    "data['payment'] = data['payment'].replace(\"Cash xl3\",\"Cash\")"
   ],
   "metadata": {
    "collapsed": false,
    "ExecuteTime": {
     "end_time": "2023-11-14T02:05:02.493369400Z",
     "start_time": "2023-11-14T02:05:00.670322900Z"
    }
   },
   "id": "a5e15aa22a3d2361"
  },
  {
   "cell_type": "code",
   "execution_count": 246,
   "outputs": [
    {
     "data": {
      "text/plain": "payment\nEwallet        0.345345\nCash           0.344344\nCredit card    0.310310\nName: proportion, dtype: float64"
     },
     "execution_count": 246,
     "metadata": {},
     "output_type": "execute_result"
    }
   ],
   "source": [
    "data['payment'].value_counts(normalize=True)"
   ],
   "metadata": {
    "collapsed": false,
    "ExecuteTime": {
     "end_time": "2023-11-14T02:05:02.493369400Z",
     "start_time": "2023-11-14T02:05:00.697361700Z"
    }
   },
   "id": "259000258215d36b"
  },
  {
   "cell_type": "markdown",
   "source": [
    "## Columns #11 "
   ],
   "metadata": {
    "collapsed": false
   },
   "id": "c07e0c77057719b1"
  },
  {
   "cell_type": "code",
   "execution_count": 247,
   "outputs": [
    {
     "name": "stdout",
     "output_type": "stream",
     "text": [
      "<class 'pandas.core.frame.DataFrame'>\n",
      "Index: 999 entries, 0 to 999\n",
      "Data columns (total 4 columns):\n",
      " #   Column                   Non-Null Count  Dtype  \n",
      "---  ------                   --------------  -----  \n",
      " 0   cogs                     999 non-null    float64\n",
      " 1   gross_margin_percentage  999 non-null    float64\n",
      " 2   gross_income             999 non-null    float64\n",
      " 3   rating                   999 non-null    float64\n",
      "dtypes: float64(4)\n",
      "memory usage: 39.0 KB\n"
     ]
    }
   ],
   "source": [
    "data[['cogs', 'gross_margin_percentage', 'gross_income',\n",
    "       'rating']].info()"
   ],
   "metadata": {
    "collapsed": false,
    "ExecuteTime": {
     "end_time": "2023-11-14T02:05:02.494368800Z",
     "start_time": "2023-11-14T02:05:00.735120500Z"
    }
   },
   "id": "1c49565c8646666f"
  },
  {
   "cell_type": "code",
   "execution_count": 248,
   "outputs": [
    {
     "data": {
      "text/plain": "             cogs  gross_margin_percentage  gross_income      rating\ncount  999.000000             9.990000e+02    999.000000  999.000000\nmean   307.618398             4.761905e+00     15.380920    6.970771\nstd    234.291748             8.886233e-16     11.714587    1.718357\nmin     10.170000             4.761905e+00      0.508500    4.000000\n25%    117.895000             4.761905e+00      5.894750    5.500000\n50%    241.600000             4.761905e+00     12.080000    7.000000\n75%    449.210000             4.761905e+00     22.460500    8.500000\nmax    993.000000             4.761905e+00     49.650000   10.000000",
      "text/html": "<div>\n<style scoped>\n    .dataframe tbody tr th:only-of-type {\n        vertical-align: middle;\n    }\n\n    .dataframe tbody tr th {\n        vertical-align: top;\n    }\n\n    .dataframe thead th {\n        text-align: right;\n    }\n</style>\n<table border=\"1\" class=\"dataframe\">\n  <thead>\n    <tr style=\"text-align: right;\">\n      <th></th>\n      <th>cogs</th>\n      <th>gross_margin_percentage</th>\n      <th>gross_income</th>\n      <th>rating</th>\n    </tr>\n  </thead>\n  <tbody>\n    <tr>\n      <th>count</th>\n      <td>999.000000</td>\n      <td>9.990000e+02</td>\n      <td>999.000000</td>\n      <td>999.000000</td>\n    </tr>\n    <tr>\n      <th>mean</th>\n      <td>307.618398</td>\n      <td>4.761905e+00</td>\n      <td>15.380920</td>\n      <td>6.970771</td>\n    </tr>\n    <tr>\n      <th>std</th>\n      <td>234.291748</td>\n      <td>8.886233e-16</td>\n      <td>11.714587</td>\n      <td>1.718357</td>\n    </tr>\n    <tr>\n      <th>min</th>\n      <td>10.170000</td>\n      <td>4.761905e+00</td>\n      <td>0.508500</td>\n      <td>4.000000</td>\n    </tr>\n    <tr>\n      <th>25%</th>\n      <td>117.895000</td>\n      <td>4.761905e+00</td>\n      <td>5.894750</td>\n      <td>5.500000</td>\n    </tr>\n    <tr>\n      <th>50%</th>\n      <td>241.600000</td>\n      <td>4.761905e+00</td>\n      <td>12.080000</td>\n      <td>7.000000</td>\n    </tr>\n    <tr>\n      <th>75%</th>\n      <td>449.210000</td>\n      <td>4.761905e+00</td>\n      <td>22.460500</td>\n      <td>8.500000</td>\n    </tr>\n    <tr>\n      <th>max</th>\n      <td>993.000000</td>\n      <td>4.761905e+00</td>\n      <td>49.650000</td>\n      <td>10.000000</td>\n    </tr>\n  </tbody>\n</table>\n</div>"
     },
     "execution_count": 248,
     "metadata": {},
     "output_type": "execute_result"
    }
   ],
   "source": [
    "data[['cogs', 'gross_margin_percentage', 'gross_income',\n",
    "       'rating']].describe()"
   ],
   "metadata": {
    "collapsed": false,
    "ExecuteTime": {
     "end_time": "2023-11-14T02:05:02.494368800Z",
     "start_time": "2023-11-14T02:05:00.751031900Z"
    }
   },
   "id": "2bc9605df9437d70"
  },
  {
   "cell_type": "markdown",
   "source": [
    "Valores en esta columans precentan margenes adecuados y sin anormalidad.\n",
    "Solo cambiaremos la cantidad de decimales y la normalizamos a dos ya que estas son columnas de montos monetarios."
   ],
   "metadata": {
    "collapsed": false
   },
   "id": "8c25e755c15306d0"
  },
  {
   "cell_type": "code",
   "execution_count": 249,
   "outputs": [],
   "source": [
    "data[['cogs', 'gross_margin_percentage', 'gross_income','rating']] = data[['cogs', 'gross_margin_percentage', 'gross_income', 'rating']].round(2)"
   ],
   "metadata": {
    "collapsed": false,
    "ExecuteTime": {
     "end_time": "2023-11-14T02:05:02.494368800Z",
     "start_time": "2023-11-14T02:05:00.781908300Z"
    }
   },
   "id": "393883b0f0042bff"
  },
  {
   "cell_type": "code",
   "execution_count": 250,
   "outputs": [
    {
     "data": {
      "text/plain": "       cogs  gross_margin_percentage  gross_income  rating\n0    522.83                     4.76         26.14     9.1\n1     76.40                     4.76          3.82     9.6\n2    324.31                     4.76         16.22     7.4\n3    465.76                     4.76         23.29     8.4\n4    604.17                     4.76         30.21     5.3\n..      ...                      ...           ...     ...\n995   40.35                     4.76          2.02     6.2\n996  973.80                     4.76         48.69     4.4\n997   31.84                     4.76          1.59     7.7\n998   65.82                     4.76          3.29     4.1\n999  618.38                     4.76         30.92     6.6\n\n[999 rows x 4 columns]",
      "text/html": "<div>\n<style scoped>\n    .dataframe tbody tr th:only-of-type {\n        vertical-align: middle;\n    }\n\n    .dataframe tbody tr th {\n        vertical-align: top;\n    }\n\n    .dataframe thead th {\n        text-align: right;\n    }\n</style>\n<table border=\"1\" class=\"dataframe\">\n  <thead>\n    <tr style=\"text-align: right;\">\n      <th></th>\n      <th>cogs</th>\n      <th>gross_margin_percentage</th>\n      <th>gross_income</th>\n      <th>rating</th>\n    </tr>\n  </thead>\n  <tbody>\n    <tr>\n      <th>0</th>\n      <td>522.83</td>\n      <td>4.76</td>\n      <td>26.14</td>\n      <td>9.1</td>\n    </tr>\n    <tr>\n      <th>1</th>\n      <td>76.40</td>\n      <td>4.76</td>\n      <td>3.82</td>\n      <td>9.6</td>\n    </tr>\n    <tr>\n      <th>2</th>\n      <td>324.31</td>\n      <td>4.76</td>\n      <td>16.22</td>\n      <td>7.4</td>\n    </tr>\n    <tr>\n      <th>3</th>\n      <td>465.76</td>\n      <td>4.76</td>\n      <td>23.29</td>\n      <td>8.4</td>\n    </tr>\n    <tr>\n      <th>4</th>\n      <td>604.17</td>\n      <td>4.76</td>\n      <td>30.21</td>\n      <td>5.3</td>\n    </tr>\n    <tr>\n      <th>...</th>\n      <td>...</td>\n      <td>...</td>\n      <td>...</td>\n      <td>...</td>\n    </tr>\n    <tr>\n      <th>995</th>\n      <td>40.35</td>\n      <td>4.76</td>\n      <td>2.02</td>\n      <td>6.2</td>\n    </tr>\n    <tr>\n      <th>996</th>\n      <td>973.80</td>\n      <td>4.76</td>\n      <td>48.69</td>\n      <td>4.4</td>\n    </tr>\n    <tr>\n      <th>997</th>\n      <td>31.84</td>\n      <td>4.76</td>\n      <td>1.59</td>\n      <td>7.7</td>\n    </tr>\n    <tr>\n      <th>998</th>\n      <td>65.82</td>\n      <td>4.76</td>\n      <td>3.29</td>\n      <td>4.1</td>\n    </tr>\n    <tr>\n      <th>999</th>\n      <td>618.38</td>\n      <td>4.76</td>\n      <td>30.92</td>\n      <td>6.6</td>\n    </tr>\n  </tbody>\n</table>\n<p>999 rows × 4 columns</p>\n</div>"
     },
     "execution_count": 250,
     "metadata": {},
     "output_type": "execute_result"
    }
   ],
   "source": [
    "data[['cogs', 'gross_margin_percentage', 'gross_income',\n",
    "       'rating']]"
   ],
   "metadata": {
    "collapsed": false,
    "ExecuteTime": {
     "end_time": "2023-11-14T02:05:02.495369200Z",
     "start_time": "2023-11-14T02:05:00.791154800Z"
    }
   },
   "id": "f9e41720014318ac"
  },
  {
   "cell_type": "markdown",
   "source": [
    "# Guardar archivos:\n",
    "Las siguientes lineas guardan nuestros datos en dos formatos elementales para consecuentes analisis.\n"
   ],
   "metadata": {
    "collapsed": false
   },
   "id": "b1601965f127cfbf"
  },
  {
   "cell_type": "code",
   "execution_count": 251,
   "outputs": [],
   "source": [
    "# data.to_pickle(\"C:/Users/Jahir/DataspellProjects/FreshMarket-project/datos/fresh_market-limpio.pkl\")\n",
    "# data.to_excel(\"C:/Users/Jahir/DataspellProjects/FreshMarket-project/datos/fresk_market-_limpio.xlsx\")"
   ],
   "metadata": {
    "collapsed": false,
    "ExecuteTime": {
     "end_time": "2023-11-14T02:05:03.557308800Z",
     "start_time": "2023-11-14T02:05:00.811090700Z"
    }
   },
   "id": "c187e9b0ccbd49cb"
  }
 ],
 "metadata": {
  "kernelspec": {
   "display_name": "Python 3",
   "language": "python",
   "name": "python3"
  },
  "language_info": {
   "codemirror_mode": {
    "name": "ipython",
    "version": 2
   },
   "file_extension": ".py",
   "mimetype": "text/x-python",
   "name": "python",
   "nbconvert_exporter": "python",
   "pygments_lexer": "ipython2",
   "version": "2.7.6"
  }
 },
 "nbformat": 4,
 "nbformat_minor": 5
}
