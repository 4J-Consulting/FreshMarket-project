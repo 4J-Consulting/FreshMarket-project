{
 "cells": [
  {
   "cell_type": "markdown",
   "source": [
    "# Fresh Market EDA:"
   ],
   "metadata": {
    "collapsed": false
   },
   "id": "c85a74e7c5c38a4f"
  },
  {
   "cell_type": "code",
   "execution_count": 2,
   "outputs": [],
   "source": [
    "import pandas as pd\n",
    "import seaborn as sns\n",
    "\n"
   ],
   "metadata": {
    "collapsed": false,
    "ExecuteTime": {
     "end_time": "2023-11-15T02:43:15.852280800Z",
     "start_time": "2023-11-15T02:43:15.845714100Z"
    }
   },
   "id": "186b283b96027d8a"
  },
  {
   "cell_type": "code",
   "execution_count": 3,
   "outputs": [],
   "source": [
    "data = pd.read_pickle(r\"C:\\Users\\Jahir\\DataspellProjects\\FreshMarket-project\\datos\\fresh_market-limpio.pkl\")\n",
    "fresh = data.copy()"
   ],
   "metadata": {
    "collapsed": false,
    "ExecuteTime": {
     "end_time": "2023-11-15T02:43:18.820590500Z",
     "start_time": "2023-11-15T02:43:18.785252200Z"
    }
   },
   "id": "62e42d29b2655bd5"
  },
  {
   "cell_type": "code",
   "execution_count": 4,
   "outputs": [
    {
     "name": "stdout",
     "output_type": "stream",
     "text": [
      "<class 'pandas.core.frame.DataFrame'>\n",
      "Index: 999 entries, 0 to 999\n",
      "Data columns (total 17 columns):\n",
      " #   Column                   Non-Null Count  Dtype         \n",
      "---  ------                   --------------  -----         \n",
      " 0   invoice_id               999 non-null    string        \n",
      " 1   branch                   999 non-null    category      \n",
      " 2   city                     999 non-null    string        \n",
      " 3   customer_type            999 non-null    string        \n",
      " 4   gender                   999 non-null    category      \n",
      " 5   product_line             999 non-null    string        \n",
      " 6   unit_price               999 non-null    float64       \n",
      " 7   quantity                 999 non-null    int64         \n",
      " 8   tax_5%                   999 non-null    float64       \n",
      " 9   total                    999 non-null    float64       \n",
      " 10  date                     999 non-null    datetime64[ns]\n",
      " 11  time                     999 non-null    object        \n",
      " 12  payment                  999 non-null    object        \n",
      " 13  cogs                     999 non-null    float64       \n",
      " 14  gross_margin_percentage  999 non-null    float64       \n",
      " 15  gross_income             999 non-null    float64       \n",
      " 16  rating                   999 non-null    float64       \n",
      "dtypes: category(2), datetime64[ns](1), float64(7), int64(1), object(2), string(4)\n",
      "memory usage: 127.1+ KB\n"
     ]
    }
   ],
   "source": [
    "fresh.info()"
   ],
   "metadata": {
    "collapsed": false,
    "ExecuteTime": {
     "end_time": "2023-11-15T02:43:20.885490400Z",
     "start_time": "2023-11-15T02:43:20.872935900Z"
    }
   },
   "id": "6540598bcb78e268"
  },
  {
   "cell_type": "markdown",
   "source": [
    "Nuestro dataset consta de 17 columnas y un total de 999 filas sin valores faltantes, el formato de cada columna se verifica que esta correcto. En la siguiente linea hacemos una descripcion estadistica general de todas nuestras variables numericas."
   ],
   "metadata": {
    "collapsed": false
   },
   "id": "aceb360cb5d98260"
  },
  {
   "cell_type": "code",
   "execution_count": 9,
   "outputs": [
    {
     "data": {
      "text/plain": "       unit_price    quantity      tax_5%        total        cogs  \\\ncount  999.000000  999.000000  999.000000   999.000000  999.000000   \nmean    55.296486    5.505506   15.381061   322.999389  307.618398   \nstd     26.878903    2.921436   11.714604   246.006398  234.291748   \nmin      0.170000    1.000000    0.510000    10.680000   10.170000   \n25%     32.000000    3.000000    5.895000   123.790000  117.895000   \n50%     55.000000    5.000000   12.080000   253.680000  241.600000   \n75%     78.000000    8.000000   22.460000   471.670000  449.210000   \nmax    100.000000   10.000000   49.650000  1042.650000  993.000000   \n\n       gross_margin_percentage  gross_income      rating  \ncount                   999.00    999.000000  999.000000  \nmean                      4.76     15.381061    6.970771  \nstd                       0.00     11.714604    1.718357  \nmin                       4.76      0.510000    4.000000  \n25%                       4.76      5.895000    5.500000  \n50%                       4.76     12.080000    7.000000  \n75%                       4.76     22.460000    8.500000  \nmax                       4.76     49.650000   10.000000  ",
      "text/html": "<div>\n<style scoped>\n    .dataframe tbody tr th:only-of-type {\n        vertical-align: middle;\n    }\n\n    .dataframe tbody tr th {\n        vertical-align: top;\n    }\n\n    .dataframe thead th {\n        text-align: right;\n    }\n</style>\n<table border=\"1\" class=\"dataframe\">\n  <thead>\n    <tr style=\"text-align: right;\">\n      <th></th>\n      <th>unit_price</th>\n      <th>quantity</th>\n      <th>tax_5%</th>\n      <th>total</th>\n      <th>cogs</th>\n      <th>gross_margin_percentage</th>\n      <th>gross_income</th>\n      <th>rating</th>\n    </tr>\n  </thead>\n  <tbody>\n    <tr>\n      <th>count</th>\n      <td>999.000000</td>\n      <td>999.000000</td>\n      <td>999.000000</td>\n      <td>999.000000</td>\n      <td>999.000000</td>\n      <td>999.00</td>\n      <td>999.000000</td>\n      <td>999.000000</td>\n    </tr>\n    <tr>\n      <th>mean</th>\n      <td>55.296486</td>\n      <td>5.505506</td>\n      <td>15.381061</td>\n      <td>322.999389</td>\n      <td>307.618398</td>\n      <td>4.76</td>\n      <td>15.381061</td>\n      <td>6.970771</td>\n    </tr>\n    <tr>\n      <th>std</th>\n      <td>26.878903</td>\n      <td>2.921436</td>\n      <td>11.714604</td>\n      <td>246.006398</td>\n      <td>234.291748</td>\n      <td>0.00</td>\n      <td>11.714604</td>\n      <td>1.718357</td>\n    </tr>\n    <tr>\n      <th>min</th>\n      <td>0.170000</td>\n      <td>1.000000</td>\n      <td>0.510000</td>\n      <td>10.680000</td>\n      <td>10.170000</td>\n      <td>4.76</td>\n      <td>0.510000</td>\n      <td>4.000000</td>\n    </tr>\n    <tr>\n      <th>25%</th>\n      <td>32.000000</td>\n      <td>3.000000</td>\n      <td>5.895000</td>\n      <td>123.790000</td>\n      <td>117.895000</td>\n      <td>4.76</td>\n      <td>5.895000</td>\n      <td>5.500000</td>\n    </tr>\n    <tr>\n      <th>50%</th>\n      <td>55.000000</td>\n      <td>5.000000</td>\n      <td>12.080000</td>\n      <td>253.680000</td>\n      <td>241.600000</td>\n      <td>4.76</td>\n      <td>12.080000</td>\n      <td>7.000000</td>\n    </tr>\n    <tr>\n      <th>75%</th>\n      <td>78.000000</td>\n      <td>8.000000</td>\n      <td>22.460000</td>\n      <td>471.670000</td>\n      <td>449.210000</td>\n      <td>4.76</td>\n      <td>22.460000</td>\n      <td>8.500000</td>\n    </tr>\n    <tr>\n      <th>max</th>\n      <td>100.000000</td>\n      <td>10.000000</td>\n      <td>49.650000</td>\n      <td>1042.650000</td>\n      <td>993.000000</td>\n      <td>4.76</td>\n      <td>49.650000</td>\n      <td>10.000000</td>\n    </tr>\n  </tbody>\n</table>\n</div>"
     },
     "execution_count": 9,
     "metadata": {},
     "output_type": "execute_result"
    }
   ],
   "source": [
    "fresh[['unit_price', 'quantity', 'tax_5%', 'total','payment', 'cogs', 'gross_margin_percentage', 'gross_income','rating']].describe()"
   ],
   "metadata": {
    "collapsed": false,
    "ExecuteTime": {
     "end_time": "2023-11-15T03:05:17.987726900Z",
     "start_time": "2023-11-15T03:05:17.969899800Z"
    }
   },
   "id": "14a11172e07dcfd1"
  },
  {
   "cell_type": "markdown",
   "source": [
    "Valores estan dentro del rango normal establecido,sin outliers destacables. Nuestros datos contienens una divicion de poblacion basica por sexo, vamos a crear una tabla de frecuencia y ver la distribucion."
   ],
   "metadata": {
    "collapsed": false
   },
   "id": "cf50d2dfc8204b36"
  },
  {
   "cell_type": "code",
   "execution_count": 11,
   "outputs": [
    {
     "data": {
      "text/plain": "      invoice_id branch       city customer_type  gender  \\\n0    750-67-8428      A     Yangon        Member  Female   \n1    226-31-3081      C  Naypyitaw        Normal  Female   \n2    631-41-3108      A     Yangon        Normal    Male   \n3    123-19-1176      A     Yangon        Member    Male   \n4    373-73-7910      A     Yangon        Normal    Male   \n..           ...    ...        ...           ...     ...   \n995  233-67-5758      C  Naypyitaw        Normal    Male   \n996  303-96-2227      B   Mandalay        Normal  Female   \n997  727-02-1313      A     Yangon        Member    Male   \n998  347-56-2442      A     Yangon        Normal    Male   \n999  849-09-3807      A     Yangon        Member  Female   \n\n               product_line  unit_price  quantity  tax_5%    total       date  \\\n0         Health and beauty        75.0         7   26.14   548.97 2019-01-05   \n1    Electronic accessories        15.0         5    3.82    80.22 2019-03-08   \n2        Home and lifestyle        46.0         7   16.22   340.53 2019-03-03   \n3         Health and beauty        58.0         8   23.29   489.05 2019-01-27   \n4         Sports and travel        86.0         7   30.21   634.38 2019-02-08   \n..                      ...         ...       ...     ...      ...        ...   \n995       Health and beauty        40.0         1    2.02    42.37 2019-01-29   \n996      Home and lifestyle        97.0        10   48.69  1022.49 2019-03-02   \n997      Food and beverages        32.0         1    1.59    33.43 2019-02-09   \n998      Home and lifestyle        66.0         1    3.29    69.11 2019-02-22   \n999     Fashion accessories        88.0         7   30.92   649.30 2019-02-18   \n\n            time      payment    cogs  gross_margin_percentage  gross_income  \\\n0     1:08:00 PM      Ewallet  522.83                     4.76         26.14   \n1    10:29:00 AM         Cash   76.40                     4.76          3.82   \n2     1:23:00 PM  Credit card  324.31                     4.76         16.22   \n3     8:33:00 PM      Ewallet  465.76                     4.76         23.29   \n4    10:37:00 AM      Ewallet  604.17                     4.76         30.21   \n..           ...          ...     ...                      ...           ...   \n995   1:46:00 PM      Ewallet   40.35                     4.76          2.02   \n996   5:16:00 PM      Ewallet  973.80                     4.76         48.69   \n997   1:22:00 PM         Cash   31.84                     4.76          1.59   \n998   3:33:00 PM         Cash   65.82                     4.76          3.29   \n999   1:28:00 PM         Cash  618.38                     4.76         30.92   \n\n     rating  \n0       9.1  \n1       9.6  \n2       7.4  \n3       8.4  \n4       5.3  \n..      ...  \n995     6.2  \n996     4.4  \n997     7.7  \n998     4.1  \n999     6.6  \n\n[999 rows x 17 columns]",
      "text/html": "<div>\n<style scoped>\n    .dataframe tbody tr th:only-of-type {\n        vertical-align: middle;\n    }\n\n    .dataframe tbody tr th {\n        vertical-align: top;\n    }\n\n    .dataframe thead th {\n        text-align: right;\n    }\n</style>\n<table border=\"1\" class=\"dataframe\">\n  <thead>\n    <tr style=\"text-align: right;\">\n      <th></th>\n      <th>invoice_id</th>\n      <th>branch</th>\n      <th>city</th>\n      <th>customer_type</th>\n      <th>gender</th>\n      <th>product_line</th>\n      <th>unit_price</th>\n      <th>quantity</th>\n      <th>tax_5%</th>\n      <th>total</th>\n      <th>date</th>\n      <th>time</th>\n      <th>payment</th>\n      <th>cogs</th>\n      <th>gross_margin_percentage</th>\n      <th>gross_income</th>\n      <th>rating</th>\n    </tr>\n  </thead>\n  <tbody>\n    <tr>\n      <th>0</th>\n      <td>750-67-8428</td>\n      <td>A</td>\n      <td>Yangon</td>\n      <td>Member</td>\n      <td>Female</td>\n      <td>Health and beauty</td>\n      <td>75.0</td>\n      <td>7</td>\n      <td>26.14</td>\n      <td>548.97</td>\n      <td>2019-01-05</td>\n      <td>1:08:00 PM</td>\n      <td>Ewallet</td>\n      <td>522.83</td>\n      <td>4.76</td>\n      <td>26.14</td>\n      <td>9.1</td>\n    </tr>\n    <tr>\n      <th>1</th>\n      <td>226-31-3081</td>\n      <td>C</td>\n      <td>Naypyitaw</td>\n      <td>Normal</td>\n      <td>Female</td>\n      <td>Electronic accessories</td>\n      <td>15.0</td>\n      <td>5</td>\n      <td>3.82</td>\n      <td>80.22</td>\n      <td>2019-03-08</td>\n      <td>10:29:00 AM</td>\n      <td>Cash</td>\n      <td>76.40</td>\n      <td>4.76</td>\n      <td>3.82</td>\n      <td>9.6</td>\n    </tr>\n    <tr>\n      <th>2</th>\n      <td>631-41-3108</td>\n      <td>A</td>\n      <td>Yangon</td>\n      <td>Normal</td>\n      <td>Male</td>\n      <td>Home and lifestyle</td>\n      <td>46.0</td>\n      <td>7</td>\n      <td>16.22</td>\n      <td>340.53</td>\n      <td>2019-03-03</td>\n      <td>1:23:00 PM</td>\n      <td>Credit card</td>\n      <td>324.31</td>\n      <td>4.76</td>\n      <td>16.22</td>\n      <td>7.4</td>\n    </tr>\n    <tr>\n      <th>3</th>\n      <td>123-19-1176</td>\n      <td>A</td>\n      <td>Yangon</td>\n      <td>Member</td>\n      <td>Male</td>\n      <td>Health and beauty</td>\n      <td>58.0</td>\n      <td>8</td>\n      <td>23.29</td>\n      <td>489.05</td>\n      <td>2019-01-27</td>\n      <td>8:33:00 PM</td>\n      <td>Ewallet</td>\n      <td>465.76</td>\n      <td>4.76</td>\n      <td>23.29</td>\n      <td>8.4</td>\n    </tr>\n    <tr>\n      <th>4</th>\n      <td>373-73-7910</td>\n      <td>A</td>\n      <td>Yangon</td>\n      <td>Normal</td>\n      <td>Male</td>\n      <td>Sports and travel</td>\n      <td>86.0</td>\n      <td>7</td>\n      <td>30.21</td>\n      <td>634.38</td>\n      <td>2019-02-08</td>\n      <td>10:37:00 AM</td>\n      <td>Ewallet</td>\n      <td>604.17</td>\n      <td>4.76</td>\n      <td>30.21</td>\n      <td>5.3</td>\n    </tr>\n    <tr>\n      <th>...</th>\n      <td>...</td>\n      <td>...</td>\n      <td>...</td>\n      <td>...</td>\n      <td>...</td>\n      <td>...</td>\n      <td>...</td>\n      <td>...</td>\n      <td>...</td>\n      <td>...</td>\n      <td>...</td>\n      <td>...</td>\n      <td>...</td>\n      <td>...</td>\n      <td>...</td>\n      <td>...</td>\n      <td>...</td>\n    </tr>\n    <tr>\n      <th>995</th>\n      <td>233-67-5758</td>\n      <td>C</td>\n      <td>Naypyitaw</td>\n      <td>Normal</td>\n      <td>Male</td>\n      <td>Health and beauty</td>\n      <td>40.0</td>\n      <td>1</td>\n      <td>2.02</td>\n      <td>42.37</td>\n      <td>2019-01-29</td>\n      <td>1:46:00 PM</td>\n      <td>Ewallet</td>\n      <td>40.35</td>\n      <td>4.76</td>\n      <td>2.02</td>\n      <td>6.2</td>\n    </tr>\n    <tr>\n      <th>996</th>\n      <td>303-96-2227</td>\n      <td>B</td>\n      <td>Mandalay</td>\n      <td>Normal</td>\n      <td>Female</td>\n      <td>Home and lifestyle</td>\n      <td>97.0</td>\n      <td>10</td>\n      <td>48.69</td>\n      <td>1022.49</td>\n      <td>2019-03-02</td>\n      <td>5:16:00 PM</td>\n      <td>Ewallet</td>\n      <td>973.80</td>\n      <td>4.76</td>\n      <td>48.69</td>\n      <td>4.4</td>\n    </tr>\n    <tr>\n      <th>997</th>\n      <td>727-02-1313</td>\n      <td>A</td>\n      <td>Yangon</td>\n      <td>Member</td>\n      <td>Male</td>\n      <td>Food and beverages</td>\n      <td>32.0</td>\n      <td>1</td>\n      <td>1.59</td>\n      <td>33.43</td>\n      <td>2019-02-09</td>\n      <td>1:22:00 PM</td>\n      <td>Cash</td>\n      <td>31.84</td>\n      <td>4.76</td>\n      <td>1.59</td>\n      <td>7.7</td>\n    </tr>\n    <tr>\n      <th>998</th>\n      <td>347-56-2442</td>\n      <td>A</td>\n      <td>Yangon</td>\n      <td>Normal</td>\n      <td>Male</td>\n      <td>Home and lifestyle</td>\n      <td>66.0</td>\n      <td>1</td>\n      <td>3.29</td>\n      <td>69.11</td>\n      <td>2019-02-22</td>\n      <td>3:33:00 PM</td>\n      <td>Cash</td>\n      <td>65.82</td>\n      <td>4.76</td>\n      <td>3.29</td>\n      <td>4.1</td>\n    </tr>\n    <tr>\n      <th>999</th>\n      <td>849-09-3807</td>\n      <td>A</td>\n      <td>Yangon</td>\n      <td>Member</td>\n      <td>Female</td>\n      <td>Fashion accessories</td>\n      <td>88.0</td>\n      <td>7</td>\n      <td>30.92</td>\n      <td>649.30</td>\n      <td>2019-02-18</td>\n      <td>1:28:00 PM</td>\n      <td>Cash</td>\n      <td>618.38</td>\n      <td>4.76</td>\n      <td>30.92</td>\n      <td>6.6</td>\n    </tr>\n  </tbody>\n</table>\n<p>999 rows × 17 columns</p>\n</div>"
     },
     "execution_count": 11,
     "metadata": {},
     "output_type": "execute_result"
    }
   ],
   "source": [
    "fresh"
   ],
   "metadata": {
    "collapsed": false,
    "ExecuteTime": {
     "end_time": "2023-11-15T03:13:05.827792200Z",
     "start_time": "2023-11-15T03:13:05.808759900Z"
    }
   },
   "id": "425d7c18e3d57199"
  },
  {
   "cell_type": "code",
   "execution_count": null,
   "outputs": [],
   "source": [],
   "metadata": {
    "collapsed": false
   },
   "id": "aea70df6e7b741b9"
  },
  {
   "cell_type": "code",
   "execution_count": null,
   "outputs": [],
   "source": [],
   "metadata": {
    "collapsed": false
   },
   "id": "706fad35acbd376a"
  },
  {
   "cell_type": "code",
   "execution_count": null,
   "outputs": [],
   "source": [],
   "metadata": {
    "collapsed": false
   },
   "id": "fa83a3f1fb53a4ff"
  },
  {
   "cell_type": "code",
   "execution_count": null,
   "outputs": [],
   "source": [],
   "metadata": {
    "collapsed": false
   },
   "id": "6c06954a3b22f57a"
  },
  {
   "cell_type": "code",
   "execution_count": null,
   "outputs": [],
   "source": [],
   "metadata": {
    "collapsed": false
   },
   "id": "7b2db01617d9f5b7"
  },
  {
   "cell_type": "code",
   "execution_count": null,
   "outputs": [],
   "source": [],
   "metadata": {
    "collapsed": false
   },
   "id": "e9ca5e5b67f15ea6"
  },
  {
   "cell_type": "code",
   "execution_count": null,
   "outputs": [],
   "source": [
    "sns.histplot(data=fresh, x=fresh['branch'])"
   ],
   "metadata": {
    "collapsed": false
   },
   "id": "e8947bf28d55429b"
  }
 ],
 "metadata": {
  "kernelspec": {
   "display_name": "Python 3",
   "language": "python",
   "name": "python3"
  },
  "language_info": {
   "codemirror_mode": {
    "name": "ipython",
    "version": 2
   },
   "file_extension": ".py",
   "mimetype": "text/x-python",
   "name": "python",
   "nbconvert_exporter": "python",
   "pygments_lexer": "ipython2",
   "version": "2.7.6"
  }
 },
 "nbformat": 4,
 "nbformat_minor": 5
}
