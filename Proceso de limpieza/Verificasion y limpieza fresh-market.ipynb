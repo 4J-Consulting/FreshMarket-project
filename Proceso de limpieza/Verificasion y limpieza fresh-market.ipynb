{
 "cells": [
  {
   "cell_type": "markdown",
   "source": [
    "## Limpieza datos - Fresh Market"
   ],
   "metadata": {
    "collapsed": false
   },
   "id": "f2d9316b38af6a08"
  },
  {
   "cell_type": "code",
   "execution_count": 18,
   "outputs": [],
   "source": [
    "#Librerias necesarias para nuestro proceso de limpieza.\n",
    "\n",
    "import pandas as pd\n",
    "import seaborn as sns"
   ],
   "metadata": {
    "collapsed": false,
    "ExecuteTime": {
     "end_time": "2023-11-11T21:38:21.453847400Z",
     "start_time": "2023-11-11T21:38:21.448822700Z"
    }
   },
   "id": "bf3dca9e625114cd"
  },
  {
   "cell_type": "code",
   "execution_count": 19,
   "outputs": [],
   "source": [
    "market_data = pd.read_csv(r'C:\\Users\\Jahir\\DataspellProjects\\FreshMarket-project\\datos\\supermarket_sales-co.csv')\n",
    "data= market_data"
   ],
   "metadata": {
    "collapsed": false,
    "ExecuteTime": {
     "end_time": "2023-11-11T21:38:23.574439700Z",
     "start_time": "2023-11-11T21:38:23.563515200Z"
    }
   },
   "id": "187848fa4dd04e67"
  },
  {
   "cell_type": "markdown",
   "source": [
    "### Observacion principal:"
   ],
   "metadata": {
    "collapsed": false
   },
   "id": "57c56a8f392c031c"
  },
  {
   "cell_type": "code",
   "execution_count": 22,
   "outputs": [
    {
     "data": {
      "text/plain": "    Invoice ID Branch       City Customer type  Gender  \\\n0  750-67-8428      A     Yangon        Member  Female   \n1  226-31-3081      C  Naypyitaw        Normal  Female   \n2  631-41-3108      A     Yangon        Normal    Male   \n3  123-19-1176      A     Yangon        Member    Male   \n4  373-73-7910      A     Yangon        Normal    Male   \n5  699-14-3026      C  Naypyitaw        Normal    Male   \n6  355-53-5943      A     Yangon        Member  Female   \n7  315-22-5665      C  Naypyitaw        Normal  Female   \n\n             Product line  Unit price  Quantity   Tax 5%     Total       Date  \\\n0       Health and beauty        75.0         7  26.1415  548.9715   1/5/2019   \n1  Electronic accessories        15.0         5   3.8200   80.2200   3/8/2019   \n2      Home and lifestyle        46.0         7  16.2155  340.5255   3/3/2019   \n3       Health and beauty        58.0         8  23.2880  489.0480  1/27/2019   \n4       Sports and travel        86.0         7  30.2085  634.3785   2/8/2019   \n5  Electronic accessories        85.0         7  29.8865  627.6165  3/25/2019   \n6  Electronic accessories        69.0         6  20.6520  433.6920  2/25/2019   \n7      Home and lifestyle        74.0        10  36.7800  772.3800  2/24/2019   \n\n          Time       Payment    cogs  gross margin percentage  gross income  \\\n0   1:08:00 PM  Ewallet 00.%  522.83                 4.761905       26.1415   \n1  10:29:00 AM      Cash xl3   76.40                 4.761905        3.8200   \n2   1:23:00 PM   Credit card  324.31                 4.761905       16.2155   \n3   8:33:00 PM  Ewallet 00.%  465.76                 4.761905       23.2880   \n4  10:37:00 AM  Ewallet 00.%  604.17                 4.761905       30.2085   \n5   6:30:00 PM       Ewallet  597.73                 4.761905       29.8865   \n6   2:36:00 PM  Ewallet 00.%  413.04                 4.761905       20.6520   \n7  11:38:00 AM  Ewallet 00.%  735.60                 4.761905       36.7800   \n\n   Rating  \n0     9.1  \n1     9.6  \n2     7.4  \n3     8.4  \n4     5.3  \n5     4.1  \n6     5.8  \n7     8.0  ",
      "text/html": "<div>\n<style scoped>\n    .dataframe tbody tr th:only-of-type {\n        vertical-align: middle;\n    }\n\n    .dataframe tbody tr th {\n        vertical-align: top;\n    }\n\n    .dataframe thead th {\n        text-align: right;\n    }\n</style>\n<table border=\"1\" class=\"dataframe\">\n  <thead>\n    <tr style=\"text-align: right;\">\n      <th></th>\n      <th>Invoice ID</th>\n      <th>Branch</th>\n      <th>City</th>\n      <th>Customer type</th>\n      <th>Gender</th>\n      <th>Product line</th>\n      <th>Unit price</th>\n      <th>Quantity</th>\n      <th>Tax 5%</th>\n      <th>Total</th>\n      <th>Date</th>\n      <th>Time</th>\n      <th>Payment</th>\n      <th>cogs</th>\n      <th>gross margin percentage</th>\n      <th>gross income</th>\n      <th>Rating</th>\n    </tr>\n  </thead>\n  <tbody>\n    <tr>\n      <th>0</th>\n      <td>750-67-8428</td>\n      <td>A</td>\n      <td>Yangon</td>\n      <td>Member</td>\n      <td>Female</td>\n      <td>Health and beauty</td>\n      <td>75.0</td>\n      <td>7</td>\n      <td>26.1415</td>\n      <td>548.9715</td>\n      <td>1/5/2019</td>\n      <td>1:08:00 PM</td>\n      <td>Ewallet 00.%</td>\n      <td>522.83</td>\n      <td>4.761905</td>\n      <td>26.1415</td>\n      <td>9.1</td>\n    </tr>\n    <tr>\n      <th>1</th>\n      <td>226-31-3081</td>\n      <td>C</td>\n      <td>Naypyitaw</td>\n      <td>Normal</td>\n      <td>Female</td>\n      <td>Electronic accessories</td>\n      <td>15.0</td>\n      <td>5</td>\n      <td>3.8200</td>\n      <td>80.2200</td>\n      <td>3/8/2019</td>\n      <td>10:29:00 AM</td>\n      <td>Cash xl3</td>\n      <td>76.40</td>\n      <td>4.761905</td>\n      <td>3.8200</td>\n      <td>9.6</td>\n    </tr>\n    <tr>\n      <th>2</th>\n      <td>631-41-3108</td>\n      <td>A</td>\n      <td>Yangon</td>\n      <td>Normal</td>\n      <td>Male</td>\n      <td>Home and lifestyle</td>\n      <td>46.0</td>\n      <td>7</td>\n      <td>16.2155</td>\n      <td>340.5255</td>\n      <td>3/3/2019</td>\n      <td>1:23:00 PM</td>\n      <td>Credit card</td>\n      <td>324.31</td>\n      <td>4.761905</td>\n      <td>16.2155</td>\n      <td>7.4</td>\n    </tr>\n    <tr>\n      <th>3</th>\n      <td>123-19-1176</td>\n      <td>A</td>\n      <td>Yangon</td>\n      <td>Member</td>\n      <td>Male</td>\n      <td>Health and beauty</td>\n      <td>58.0</td>\n      <td>8</td>\n      <td>23.2880</td>\n      <td>489.0480</td>\n      <td>1/27/2019</td>\n      <td>8:33:00 PM</td>\n      <td>Ewallet 00.%</td>\n      <td>465.76</td>\n      <td>4.761905</td>\n      <td>23.2880</td>\n      <td>8.4</td>\n    </tr>\n    <tr>\n      <th>4</th>\n      <td>373-73-7910</td>\n      <td>A</td>\n      <td>Yangon</td>\n      <td>Normal</td>\n      <td>Male</td>\n      <td>Sports and travel</td>\n      <td>86.0</td>\n      <td>7</td>\n      <td>30.2085</td>\n      <td>634.3785</td>\n      <td>2/8/2019</td>\n      <td>10:37:00 AM</td>\n      <td>Ewallet 00.%</td>\n      <td>604.17</td>\n      <td>4.761905</td>\n      <td>30.2085</td>\n      <td>5.3</td>\n    </tr>\n    <tr>\n      <th>5</th>\n      <td>699-14-3026</td>\n      <td>C</td>\n      <td>Naypyitaw</td>\n      <td>Normal</td>\n      <td>Male</td>\n      <td>Electronic accessories</td>\n      <td>85.0</td>\n      <td>7</td>\n      <td>29.8865</td>\n      <td>627.6165</td>\n      <td>3/25/2019</td>\n      <td>6:30:00 PM</td>\n      <td>Ewallet</td>\n      <td>597.73</td>\n      <td>4.761905</td>\n      <td>29.8865</td>\n      <td>4.1</td>\n    </tr>\n    <tr>\n      <th>6</th>\n      <td>355-53-5943</td>\n      <td>A</td>\n      <td>Yangon</td>\n      <td>Member</td>\n      <td>Female</td>\n      <td>Electronic accessories</td>\n      <td>69.0</td>\n      <td>6</td>\n      <td>20.6520</td>\n      <td>433.6920</td>\n      <td>2/25/2019</td>\n      <td>2:36:00 PM</td>\n      <td>Ewallet 00.%</td>\n      <td>413.04</td>\n      <td>4.761905</td>\n      <td>20.6520</td>\n      <td>5.8</td>\n    </tr>\n    <tr>\n      <th>7</th>\n      <td>315-22-5665</td>\n      <td>C</td>\n      <td>Naypyitaw</td>\n      <td>Normal</td>\n      <td>Female</td>\n      <td>Home and lifestyle</td>\n      <td>74.0</td>\n      <td>10</td>\n      <td>36.7800</td>\n      <td>772.3800</td>\n      <td>2/24/2019</td>\n      <td>11:38:00 AM</td>\n      <td>Ewallet 00.%</td>\n      <td>735.60</td>\n      <td>4.761905</td>\n      <td>36.7800</td>\n      <td>8.0</td>\n    </tr>\n  </tbody>\n</table>\n</div>"
     },
     "execution_count": 22,
     "metadata": {},
     "output_type": "execute_result"
    }
   ],
   "source": [
    "data.head(8)"
   ],
   "metadata": {
    "collapsed": false,
    "ExecuteTime": {
     "end_time": "2023-11-11T21:38:43.101108200Z",
     "start_time": "2023-11-11T21:38:43.083404900Z"
    }
   },
   "id": "984a02fa4020dbe8"
  },
  {
   "cell_type": "code",
   "execution_count": 23,
   "outputs": [
    {
     "name": "stdout",
     "output_type": "stream",
     "text": [
      "<class 'pandas.core.frame.DataFrame'>\n",
      "RangeIndex: 1027 entries, 0 to 1026\n",
      "Data columns (total 17 columns):\n",
      " #   Column                   Non-Null Count  Dtype  \n",
      "---  ------                   --------------  -----  \n",
      " 0   Invoice ID               1000 non-null   object \n",
      " 1   Branch                   1027 non-null   object \n",
      " 2   City                     1027 non-null   object \n",
      " 3   Customer type            1027 non-null   object \n",
      " 4   Gender                   1027 non-null   object \n",
      " 5   Product line             1027 non-null   object \n",
      " 6   Unit price               1020 non-null   float64\n",
      " 7   Quantity                 1027 non-null   int64  \n",
      " 8   Tax 5%                   1027 non-null   float64\n",
      " 9   Total                    1027 non-null   float64\n",
      " 10  Date                     1027 non-null   object \n",
      " 11  Time                     1027 non-null   object \n",
      " 12  Payment                  1027 non-null   object \n",
      " 13  cogs                     1027 non-null   float64\n",
      " 14  gross margin percentage  1000 non-null   float64\n",
      " 15  gross income             1000 non-null   float64\n",
      " 16  Rating                   1000 non-null   float64\n",
      "dtypes: float64(7), int64(1), object(9)\n",
      "memory usage: 136.5+ KB\n"
     ]
    }
   ],
   "source": [
    "data.info()"
   ],
   "metadata": {
    "collapsed": false,
    "ExecuteTime": {
     "end_time": "2023-11-11T21:38:59.904600400Z",
     "start_time": "2023-11-11T21:38:59.873990200Z"
    }
   },
   "id": "bf1a789079f221aa"
  },
  {
   "cell_type": "markdown",
   "source": [
    "## Comentarios iniciales:\n",
    "\n",
    "El dataset contiene 17 columnas con informacion relacionada a la actividad diaria de fresh market, varios problemas estructuares se evidencia en la primera vista, los formatos deben ser verificads pues existe incosostencia.\n",
    "\n",
    "* Normalizar nombres de columnas\n",
    "* Columna con fechas debe ser tratada.\n",
    "* Datos faltantes en el identificador de productos."
   ],
   "metadata": {
    "collapsed": false
   },
   "id": "37de1e2f4819a1c9"
  },
  {
   "cell_type": "code",
   "execution_count": null,
   "outputs": [],
   "source": [],
   "metadata": {
    "collapsed": false
   },
   "id": "6ba4e50876a6cf2b"
  },
  {
   "cell_type": "code",
   "execution_count": null,
   "outputs": [],
   "source": [],
   "metadata": {
    "collapsed": false
   },
   "id": "d08e2319ffa3275d"
  },
  {
   "cell_type": "code",
   "execution_count": null,
   "outputs": [],
   "source": [],
   "metadata": {
    "collapsed": false
   },
   "id": "f195b6f25734a626"
  },
  {
   "cell_type": "code",
   "execution_count": null,
   "outputs": [],
   "source": [],
   "metadata": {
    "collapsed": false
   },
   "id": "546968507afad97"
  },
  {
   "cell_type": "code",
   "execution_count": null,
   "outputs": [],
   "source": [],
   "metadata": {
    "collapsed": false
   },
   "id": "b13798b6ba711a99"
  },
  {
   "cell_type": "code",
   "execution_count": null,
   "outputs": [],
   "source": [],
   "metadata": {
    "collapsed": false
   },
   "id": "f138e8a968c0dfac"
  },
  {
   "cell_type": "code",
   "execution_count": null,
   "outputs": [],
   "source": [],
   "metadata": {
    "collapsed": false
   },
   "id": "8584bd64ea7b9d1"
  },
  {
   "cell_type": "code",
   "execution_count": null,
   "outputs": [],
   "source": [],
   "metadata": {
    "collapsed": false
   },
   "id": "47115e44f76092c"
  },
  {
   "cell_type": "code",
   "execution_count": null,
   "outputs": [],
   "source": [],
   "metadata": {
    "collapsed": false
   },
   "id": "6f0dff53bd0498b7"
  },
  {
   "cell_type": "code",
   "execution_count": null,
   "outputs": [],
   "source": [],
   "metadata": {
    "collapsed": false
   },
   "id": "607cec26b9279a80"
  },
  {
   "cell_type": "code",
   "execution_count": null,
   "outputs": [],
   "source": [],
   "metadata": {
    "collapsed": false
   },
   "id": "9f5a77de2e34936f"
  },
  {
   "cell_type": "code",
   "execution_count": null,
   "outputs": [],
   "source": [],
   "metadata": {
    "collapsed": false
   },
   "id": "d72eabc85423b20e"
  },
  {
   "cell_type": "code",
   "execution_count": null,
   "outputs": [],
   "source": [],
   "metadata": {
    "collapsed": false
   },
   "id": "37e645ffdc4eb6e3"
  },
  {
   "cell_type": "code",
   "execution_count": null,
   "outputs": [],
   "source": [],
   "metadata": {
    "collapsed": false
   },
   "id": "5ce2792cd4dcbcd6"
  }
 ],
 "metadata": {
  "kernelspec": {
   "display_name": "Python 3",
   "language": "python",
   "name": "python3"
  },
  "language_info": {
   "codemirror_mode": {
    "name": "ipython",
    "version": 2
   },
   "file_extension": ".py",
   "mimetype": "text/x-python",
   "name": "python",
   "nbconvert_exporter": "python",
   "pygments_lexer": "ipython2",
   "version": "2.7.6"
  }
 },
 "nbformat": 4,
 "nbformat_minor": 5
}
